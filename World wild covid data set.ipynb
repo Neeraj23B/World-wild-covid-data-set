{
 "cells": [
  {
   "cell_type": "markdown",
   "id": "e27ef791",
   "metadata": {},
   "source": [
    "# 1. Title - World wild covid data set "
   ]
  },
  {
   "cell_type": "markdown",
   "id": "c4df52bb",
   "metadata": {},
   "source": [
    "## Objective "
   ]
  },
  {
   "cell_type": "raw",
   "id": "b6f6fa2d",
   "metadata": {},
   "source": [
    "To analyse and predict the covid cases all over the world of 2021 dataset"
   ]
  },
  {
   "cell_type": "markdown",
   "id": "cfc7dcba",
   "metadata": {},
   "source": [
    "## Problem Statement"
   ]
  },
  {
   "cell_type": "raw",
   "id": "d4d9d86c",
   "metadata": {},
   "source": [
    "1.Determine the skewness for Total cases,Total deaths,Total.Recovered,Active Cases?\n",
    "2.What is Correlation between the Total Recovered and Active Cases?\n",
    "3.Is there a positive relation between the population tested and recovered ?\n",
    "4.What is Correlation between the total death and total cases?\n",
    "5.Which Country has the highest number of active cases (top7)?\n",
    "6.Which Country has the lowest number of active cases (top7)?\n",
    "7.Top 7 countries which as an highest numbers of death cases?\n",
    "8.Top 7 countries which as an lowest numbers of death cases?\n",
    "9.Total tests with repect to population?\n",
    "10.Total recovered Covid Cases with respect to Countries\n",
    "11.Number of Deaths within a population"
   ]
  },
  {
   "cell_type": "raw",
   "id": "7c23caa2",
   "metadata": {},
   "source": [
    "This dataset contains the COVID-19 Data of various countries in the world.\n",
    "\n",
    "Below is the explanation of every column in the dataset.\n",
    "\n",
    "\n",
    "1.Country - The Country of Origin.\n",
    "2.Total Cases - The total COVID cases pertaining to that particular country.\n",
    "3.Total Deaths - The total deaths due to COVID pertaining to that particular country.\n",
    "4.Total Recovered - The total patients recovered from COVID pertaining to that particular country.\n",
    "5.Active Cases - The total active patients of COVID pertaining to that particular country.\n",
    "6.Total Cases/1M population - The total Cases per Million of Population pertaining to that country.\n",
    "7.Deaths/1M population - The total deaths per Million of Population pertaining to that country.\n",
    "8.Total Tests - The total COVID testing done of the Population pertaining to that country.\n",
    "9.Tests/1M population - The total COVID testing done per Million of the Population pertaining to that country.\n",
    "10.Population - The total population pertaining to that country.\n"
   ]
  },
  {
   "cell_type": "markdown",
   "id": "bb0ce2f6",
   "metadata": {},
   "source": [
    "## 2. LOAD THE DATASET"
   ]
  },
  {
   "cell_type": "code",
   "execution_count": 1,
   "id": "4c0f82f0",
   "metadata": {},
   "outputs": [
    {
     "data": {
      "text/html": [
       "<table>\n",
       "<thead><tr><th scope=col>Country</th><th scope=col>Total.Cases</th><th scope=col>Total.Deaths</th><th scope=col>Total.Recovered</th><th scope=col>Active.Cases</th><th scope=col>Total.Cases.1M.population</th><th scope=col>Deaths.1M.population</th><th scope=col>Total.Tests</th><th scope=col>Tests.1M.population</th><th scope=col>Population</th></tr></thead>\n",
       "<tbody>\n",
       "\t<tr><td>Afghanistan</td><td>156610     </td><td>7294       </td><td>129263     </td><td>20053      </td><td>  3903     </td><td> 182       </td><td> 780493    </td><td>  19450    </td><td>40128416   </td></tr>\n",
       "\t<tr><td>Albania    </td><td>193269     </td><td>2997       </td><td>181839     </td><td> 8433      </td><td> 67259     </td><td>1043       </td><td>1352267    </td><td> 470602    </td><td> 2873485   </td></tr>\n",
       "\t<tr><td>Algeria    </td><td>208104     </td><td>5991       </td><td>142776     </td><td>59337      </td><td>  4631     </td><td> 133       </td><td> 230861    </td><td>   5138    </td><td>44935581   </td></tr>\n",
       "\t<tr><td>Andorra    </td><td> 15907     </td><td> 130       </td><td> 15458     </td><td>  319      </td><td>205424     </td><td>1679       </td><td> 193595    </td><td>2500097    </td><td>   77435   </td></tr>\n",
       "\t<tr><td>Angola     </td><td> 64913     </td><td>1727       </td><td> 61687     </td><td> 1499      </td><td>  1894     </td><td>  50       </td><td>1143072    </td><td>  33361    </td><td>34264113   </td></tr>\n",
       "\t<tr><td>Anguilla   </td><td>  1137     </td><td>   4       </td><td>  1053     </td><td>   80      </td><td> 74867     </td><td> 263       </td><td>  51382    </td><td>3383288    </td><td>   15187   </td></tr>\n",
       "</tbody>\n",
       "</table>\n"
      ],
      "text/latex": [
       "\\begin{tabular}{r|llllllllll}\n",
       " Country & Total.Cases & Total.Deaths & Total.Recovered & Active.Cases & Total.Cases.1M.population & Deaths.1M.population & Total.Tests & Tests.1M.population & Population\\\\\n",
       "\\hline\n",
       "\t Afghanistan & 156610      & 7294        & 129263      & 20053       &   3903      &  182        &  780493     &   19450     & 40128416   \\\\\n",
       "\t Albania     & 193269      & 2997        & 181839      &  8433       &  67259      & 1043        & 1352267     &  470602     &  2873485   \\\\\n",
       "\t Algeria     & 208104      & 5991        & 142776      & 59337       &   4631      &  133        &  230861     &    5138     & 44935581   \\\\\n",
       "\t Andorra     &  15907      &  130        &  15458      &   319       & 205424      & 1679        &  193595     & 2500097     &    77435   \\\\\n",
       "\t Angola      &  64913      & 1727        &  61687      &  1499       &   1894      &   50        & 1143072     &   33361     & 34264113   \\\\\n",
       "\t Anguilla    &   1137      &    4        &   1053      &    80       &  74867      &  263        &   51382     & 3383288     &    15187   \\\\\n",
       "\\end{tabular}\n"
      ],
      "text/markdown": [
       "\n",
       "| Country | Total.Cases | Total.Deaths | Total.Recovered | Active.Cases | Total.Cases.1M.population | Deaths.1M.population | Total.Tests | Tests.1M.population | Population |\n",
       "|---|---|---|---|---|---|---|---|---|---|\n",
       "| Afghanistan | 156610      | 7294        | 129263      | 20053       |   3903      |  182        |  780493     |   19450     | 40128416    |\n",
       "| Albania     | 193269      | 2997        | 181839      |  8433       |  67259      | 1043        | 1352267     |  470602     |  2873485    |\n",
       "| Algeria     | 208104      | 5991        | 142776      | 59337       |   4631      |  133        |  230861     |    5138     | 44935581    |\n",
       "| Andorra     |  15907      |  130        |  15458      |   319       | 205424      | 1679        |  193595     | 2500097     |    77435    |\n",
       "| Angola      |  64913      | 1727        |  61687      |  1499       |   1894      |   50        | 1143072     |   33361     | 34264113    |\n",
       "| Anguilla    |   1137      |    4        |   1053      |    80       |  74867      |  263        |   51382     | 3383288     |    15187    |\n",
       "\n"
      ],
      "text/plain": [
       "  Country     Total.Cases Total.Deaths Total.Recovered Active.Cases\n",
       "1 Afghanistan 156610      7294         129263          20053       \n",
       "2 Albania     193269      2997         181839           8433       \n",
       "3 Algeria     208104      5991         142776          59337       \n",
       "4 Andorra      15907       130          15458            319       \n",
       "5 Angola       64913      1727          61687           1499       \n",
       "6 Anguilla      1137         4           1053             80       \n",
       "  Total.Cases.1M.population Deaths.1M.population Total.Tests\n",
       "1   3903                     182                  780493    \n",
       "2  67259                    1043                 1352267    \n",
       "3   4631                     133                  230861    \n",
       "4 205424                    1679                  193595    \n",
       "5   1894                      50                 1143072    \n",
       "6  74867                     263                   51382    \n",
       "  Tests.1M.population Population\n",
       "1   19450             40128416  \n",
       "2  470602              2873485  \n",
       "3    5138             44935581  \n",
       "4 2500097                77435  \n",
       "5   33361             34264113  \n",
       "6 3383288                15187  "
      ]
     },
     "metadata": {},
     "output_type": "display_data"
    }
   ],
   "source": [
    "covid_data = read.csv('worldwide covid data.csv')\n",
    "head(covid_data)"
   ]
  },
  {
   "cell_type": "markdown",
   "id": "3dce8bdc",
   "metadata": {},
   "source": [
    "## 3. GET STRUCTURE OF THE DATASET"
   ]
  },
  {
   "cell_type": "code",
   "execution_count": 2,
   "id": "476dd477",
   "metadata": {},
   "outputs": [
    {
     "name": "stdout",
     "output_type": "stream",
     "text": [
      "'data.frame':\t196 obs. of  10 variables:\n",
      " $ Country                  : Factor w/ 196 levels \"Afghanistan\",..: 1 2 3 4 5 6 7 8 9 10 ...\n",
      " $ Total.Cases              : int  156610 193269 208104 15907 64913 1137 4122 5307159 329913 16089 ...\n",
      " $ Total.Deaths             : int  7294 2997 5991 130 1727 4 107 116250 7107 172 ...\n",
      " $ Total.Recovered          : num  129263 181839 142776 15458 61687 ...\n",
      " $ Active.Cases             : num  20053 8433 59337 319 1499 ...\n",
      " $ Total.Cases.1M.population: int  3903 67259 4631 205424 1894 74867 41619 115967 111050 149821 ...\n",
      " $ Deaths.1M.population     : int  182 1043 133 1679 50 263 1080 2540 2392 1602 ...\n",
      " $ Total.Tests              : num  780493 1352267 230861 193595 1143072 ...\n",
      " $ Tests.1M.population      : num  19450 470602 5138 2500097 33361 ...\n",
      " $ Population               : int  40128416 2873485 44935581 77435 34264113 15187 99041 45764409 2970842 107388 ...\n"
     ]
    }
   ],
   "source": [
    "str(covid_data)"
   ]
  },
  {
   "cell_type": "markdown",
   "id": "8e547ce2",
   "metadata": {},
   "source": [
    "## 4. COUNT NUMBER OF ROWS AND COLUMNS IN THE DATASET"
   ]
  },
  {
   "cell_type": "markdown",
   "id": "fa8a8584",
   "metadata": {},
   "source": [
    "### Number of rows"
   ]
  },
  {
   "cell_type": "code",
   "execution_count": 3,
   "id": "c3fb5e05",
   "metadata": {},
   "outputs": [
    {
     "data": {
      "text/html": [
       "196"
      ],
      "text/latex": [
       "196"
      ],
      "text/markdown": [
       "196"
      ],
      "text/plain": [
       "[1] 196"
      ]
     },
     "metadata": {},
     "output_type": "display_data"
    }
   ],
   "source": [
    "nrow(covid_data)"
   ]
  },
  {
   "cell_type": "markdown",
   "id": "54495d8e",
   "metadata": {},
   "source": [
    "### Number of columns"
   ]
  },
  {
   "cell_type": "code",
   "execution_count": 4,
   "id": "ff64f1b8",
   "metadata": {},
   "outputs": [
    {
     "data": {
      "text/html": [
       "10"
      ],
      "text/latex": [
       "10"
      ],
      "text/markdown": [
       "10"
      ],
      "text/plain": [
       "[1] 10"
      ]
     },
     "metadata": {},
     "output_type": "display_data"
    }
   ],
   "source": [
    "ncol(covid_data)"
   ]
  },
  {
   "cell_type": "markdown",
   "id": "28850fb9",
   "metadata": {},
   "source": [
    "### Columns Names"
   ]
  },
  {
   "cell_type": "code",
   "execution_count": 5,
   "id": "f2e85c70",
   "metadata": {},
   "outputs": [
    {
     "data": {
      "text/html": [
       "<ol class=list-inline>\n",
       "\t<li>'Country'</li>\n",
       "\t<li>'Total.Cases'</li>\n",
       "\t<li>'Total.Deaths'</li>\n",
       "\t<li>'Total.Recovered'</li>\n",
       "\t<li>'Active.Cases'</li>\n",
       "\t<li>'Total.Cases.1M.population'</li>\n",
       "\t<li>'Deaths.1M.population'</li>\n",
       "\t<li>'Total.Tests'</li>\n",
       "\t<li>'Tests.1M.population'</li>\n",
       "\t<li>'Population'</li>\n",
       "</ol>\n"
      ],
      "text/latex": [
       "\\begin{enumerate*}\n",
       "\\item 'Country'\n",
       "\\item 'Total.Cases'\n",
       "\\item 'Total.Deaths'\n",
       "\\item 'Total.Recovered'\n",
       "\\item 'Active.Cases'\n",
       "\\item 'Total.Cases.1M.population'\n",
       "\\item 'Deaths.1M.population'\n",
       "\\item 'Total.Tests'\n",
       "\\item 'Tests.1M.population'\n",
       "\\item 'Population'\n",
       "\\end{enumerate*}\n"
      ],
      "text/markdown": [
       "1. 'Country'\n",
       "2. 'Total.Cases'\n",
       "3. 'Total.Deaths'\n",
       "4. 'Total.Recovered'\n",
       "5. 'Active.Cases'\n",
       "6. 'Total.Cases.1M.population'\n",
       "7. 'Deaths.1M.population'\n",
       "8. 'Total.Tests'\n",
       "9. 'Tests.1M.population'\n",
       "10. 'Population'\n",
       "\n",
       "\n"
      ],
      "text/plain": [
       " [1] \"Country\"                   \"Total.Cases\"              \n",
       " [3] \"Total.Deaths\"              \"Total.Recovered\"          \n",
       " [5] \"Active.Cases\"              \"Total.Cases.1M.population\"\n",
       " [7] \"Deaths.1M.population\"      \"Total.Tests\"              \n",
       " [9] \"Tests.1M.population\"       \"Population\"               "
      ]
     },
     "metadata": {},
     "output_type": "display_data"
    }
   ],
   "source": [
    "colnames(covid_data)"
   ]
  },
  {
   "cell_type": "markdown",
   "id": "9ab9e06c",
   "metadata": {},
   "source": [
    "## Check the data type of each column"
   ]
  },
  {
   "cell_type": "code",
   "execution_count": 6,
   "id": "4a2de5f7",
   "metadata": {},
   "outputs": [
    {
     "data": {
      "text/html": [
       "<dl class=dl-horizontal>\n",
       "\t<dt>Country</dt>\n",
       "\t\t<dd>'factor'</dd>\n",
       "\t<dt>Total.Cases</dt>\n",
       "\t\t<dd>'integer'</dd>\n",
       "\t<dt>Total.Deaths</dt>\n",
       "\t\t<dd>'integer'</dd>\n",
       "\t<dt>Total.Recovered</dt>\n",
       "\t\t<dd>'numeric'</dd>\n",
       "\t<dt>Active.Cases</dt>\n",
       "\t\t<dd>'numeric'</dd>\n",
       "\t<dt>Total.Cases.1M.population</dt>\n",
       "\t\t<dd>'integer'</dd>\n",
       "\t<dt>Deaths.1M.population</dt>\n",
       "\t\t<dd>'integer'</dd>\n",
       "\t<dt>Total.Tests</dt>\n",
       "\t\t<dd>'numeric'</dd>\n",
       "\t<dt>Tests.1M.population</dt>\n",
       "\t\t<dd>'numeric'</dd>\n",
       "\t<dt>Population</dt>\n",
       "\t\t<dd>'integer'</dd>\n",
       "</dl>\n"
      ],
      "text/latex": [
       "\\begin{description*}\n",
       "\\item[Country] 'factor'\n",
       "\\item[Total.Cases] 'integer'\n",
       "\\item[Total.Deaths] 'integer'\n",
       "\\item[Total.Recovered] 'numeric'\n",
       "\\item[Active.Cases] 'numeric'\n",
       "\\item[Total.Cases.1M.population] 'integer'\n",
       "\\item[Deaths.1M.population] 'integer'\n",
       "\\item[Total.Tests] 'numeric'\n",
       "\\item[Tests.1M.population] 'numeric'\n",
       "\\item[Population] 'integer'\n",
       "\\end{description*}\n"
      ],
      "text/markdown": [
       "Country\n",
       ":   'factor'Total.Cases\n",
       ":   'integer'Total.Deaths\n",
       ":   'integer'Total.Recovered\n",
       ":   'numeric'Active.Cases\n",
       ":   'numeric'Total.Cases.1M.population\n",
       ":   'integer'Deaths.1M.population\n",
       ":   'integer'Total.Tests\n",
       ":   'numeric'Tests.1M.population\n",
       ":   'numeric'Population\n",
       ":   'integer'\n",
       "\n"
      ],
      "text/plain": [
       "                  Country               Total.Cases              Total.Deaths \n",
       "                 \"factor\"                 \"integer\"                 \"integer\" \n",
       "          Total.Recovered              Active.Cases Total.Cases.1M.population \n",
       "                \"numeric\"                 \"numeric\"                 \"integer\" \n",
       "     Deaths.1M.population               Total.Tests       Tests.1M.population \n",
       "                \"integer\"                 \"numeric\"                 \"numeric\" \n",
       "               Population \n",
       "                \"integer\" "
      ]
     },
     "metadata": {},
     "output_type": "display_data"
    }
   ],
   "source": [
    "sapply(covid_data,class)"
   ]
  },
  {
   "cell_type": "markdown",
   "id": "13185e74",
   "metadata": {},
   "source": [
    "## Check if any NA value in the dataset for each column"
   ]
  },
  {
   "cell_type": "code",
   "execution_count": 7,
   "id": "a38b585c",
   "metadata": {},
   "outputs": [
    {
     "data": {
      "text/html": [
       "TRUE"
      ],
      "text/latex": [
       "TRUE"
      ],
      "text/markdown": [
       "TRUE"
      ],
      "text/plain": [
       "[1] TRUE"
      ]
     },
     "metadata": {},
     "output_type": "display_data"
    }
   ],
   "source": [
    "any(is.na(covid_data))"
   ]
  },
  {
   "cell_type": "code",
   "execution_count": 8,
   "id": "01c8b4d7",
   "metadata": {},
   "outputs": [
    {
     "data": {
      "text/html": [
       "FALSE"
      ],
      "text/latex": [
       "FALSE"
      ],
      "text/markdown": [
       "FALSE"
      ],
      "text/plain": [
       "[1] FALSE"
      ]
     },
     "metadata": {},
     "output_type": "display_data"
    }
   ],
   "source": [
    "any(is.na(covid_data$Country))"
   ]
  },
  {
   "cell_type": "code",
   "execution_count": 9,
   "id": "5dee4125",
   "metadata": {},
   "outputs": [
    {
     "data": {
      "text/html": [
       "FALSE"
      ],
      "text/latex": [
       "FALSE"
      ],
      "text/markdown": [
       "FALSE"
      ],
      "text/plain": [
       "[1] FALSE"
      ]
     },
     "metadata": {},
     "output_type": "display_data"
    }
   ],
   "source": [
    "any(is.na(covid_data$Total.Cases))"
   ]
  },
  {
   "cell_type": "code",
   "execution_count": 10,
   "id": "488246fa",
   "metadata": {},
   "outputs": [
    {
     "data": {
      "text/html": [
       "FALSE"
      ],
      "text/latex": [
       "FALSE"
      ],
      "text/markdown": [
       "FALSE"
      ],
      "text/plain": [
       "[1] FALSE"
      ]
     },
     "metadata": {},
     "output_type": "display_data"
    }
   ],
   "source": [
    "any(is.na(covid_data$Total.Deaths))"
   ]
  },
  {
   "cell_type": "code",
   "execution_count": 11,
   "id": "4073aae6",
   "metadata": {},
   "outputs": [
    {
     "data": {
      "text/html": [
       "TRUE"
      ],
      "text/latex": [
       "TRUE"
      ],
      "text/markdown": [
       "TRUE"
      ],
      "text/plain": [
       "[1] TRUE"
      ]
     },
     "metadata": {},
     "output_type": "display_data"
    }
   ],
   "source": [
    "any(is.na(covid_data$Total.Recovered))"
   ]
  },
  {
   "cell_type": "code",
   "execution_count": 12,
   "id": "fa429f1e",
   "metadata": {},
   "outputs": [
    {
     "data": {
      "text/html": [
       "TRUE"
      ],
      "text/latex": [
       "TRUE"
      ],
      "text/markdown": [
       "TRUE"
      ],
      "text/plain": [
       "[1] TRUE"
      ]
     },
     "metadata": {},
     "output_type": "display_data"
    }
   ],
   "source": [
    "any(is.na(covid_data$Active.Cases))"
   ]
  },
  {
   "cell_type": "code",
   "execution_count": 13,
   "id": "af4c20f6",
   "metadata": {},
   "outputs": [
    {
     "data": {
      "text/html": [
       "FALSE"
      ],
      "text/latex": [
       "FALSE"
      ],
      "text/markdown": [
       "FALSE"
      ],
      "text/plain": [
       "[1] FALSE"
      ]
     },
     "metadata": {},
     "output_type": "display_data"
    }
   ],
   "source": [
    "any(is.na(covid_data$otal.Cases.1M.population))"
   ]
  },
  {
   "cell_type": "code",
   "execution_count": 14,
   "id": "0fde6a09",
   "metadata": {},
   "outputs": [
    {
     "data": {
      "text/html": [
       "FALSE"
      ],
      "text/latex": [
       "FALSE"
      ],
      "text/markdown": [
       "FALSE"
      ],
      "text/plain": [
       "[1] FALSE"
      ]
     },
     "metadata": {},
     "output_type": "display_data"
    }
   ],
   "source": [
    "any(is.na(covid_data$Deaths.1M.population))"
   ]
  },
  {
   "cell_type": "code",
   "execution_count": 15,
   "id": "0005de2a",
   "metadata": {},
   "outputs": [
    {
     "data": {
      "text/html": [
       "TRUE"
      ],
      "text/latex": [
       "TRUE"
      ],
      "text/markdown": [
       "TRUE"
      ],
      "text/plain": [
       "[1] TRUE"
      ]
     },
     "metadata": {},
     "output_type": "display_data"
    }
   ],
   "source": [
    "any(is.na(covid_data$Total.Tests))"
   ]
  },
  {
   "cell_type": "code",
   "execution_count": 16,
   "id": "b03e84c7",
   "metadata": {},
   "outputs": [
    {
     "data": {
      "text/html": [
       "TRUE"
      ],
      "text/latex": [
       "TRUE"
      ],
      "text/markdown": [
       "TRUE"
      ],
      "text/plain": [
       "[1] TRUE"
      ]
     },
     "metadata": {},
     "output_type": "display_data"
    }
   ],
   "source": [
    "any(is.na(covid_data$Tests.1M.population))"
   ]
  },
  {
   "cell_type": "code",
   "execution_count": 17,
   "id": "f608b288",
   "metadata": {},
   "outputs": [
    {
     "data": {
      "text/html": [
       "FALSE"
      ],
      "text/latex": [
       "FALSE"
      ],
      "text/markdown": [
       "FALSE"
      ],
      "text/plain": [
       "[1] FALSE"
      ]
     },
     "metadata": {},
     "output_type": "display_data"
    }
   ],
   "source": [
    "any(is.na(covid_data$Population))"
   ]
  },
  {
   "cell_type": "markdown",
   "id": "32f0bd29",
   "metadata": {},
   "source": [
    "## 5. SUMMARY OF THE DATASET"
   ]
  },
  {
   "cell_type": "code",
   "execution_count": 18,
   "id": "f08ab5ac",
   "metadata": {},
   "outputs": [
    {
     "data": {
      "text/plain": [
       "        Country     Total.Cases        Total.Deaths      Total.Recovered   \n",
       " Afghanistan:  1   Min.   :    1137   Min.   :     3.0   Min.   :      55  \n",
       " Albania    :  1   1st Qu.:   22808   1st Qu.:   336.2   1st Qu.:   16077  \n",
       " Algeria    :  1   Median :  186316   Median :  2439.0   Median :  144166  \n",
       " Andorra    :  1   Mean   : 1299232   Mean   : 26146.0   Mean   : 1177937  \n",
       " Angola     :  1   3rd Qu.:  673082   3rd Qu.: 12168.8   3rd Qu.:  620886  \n",
       " Anguilla   :  1   Max.   :48072898   Max.   :784779.0   Max.   :38050509  \n",
       " (Other)    :190                                         NA's   :2         \n",
       "  Active.Cases     Total.Cases.1M.population Deaths.1M.population\n",
       " Min.   :      2   Min.   :    68            Min.   :   3.0      \n",
       " 1st Qu.:    738   1st Qu.:  6678            1st Qu.: 115.8      \n",
       " Median :   6565   Median : 48149            Median : 648.5      \n",
       " Mean   :  97757   Mean   : 58076            Mean   : 939.0      \n",
       " 3rd Qu.:  33770   3rd Qu.: 96572            3rd Qu.:1595.5      \n",
       " Max.   :9237610   Max.   :242625            Max.   :5972.0      \n",
       " NA's   :2                                                       \n",
       "  Total.Tests        Tests.1M.population   Population       \n",
       " Min.   :    14689   Min.   :    3283    Min.   :1.519e+04  \n",
       " 1st Qu.:   355442   1st Qu.:  105366    1st Qu.:1.988e+06  \n",
       " Median :  2022658   Median :  479750    Median :8.909e+06  \n",
       " Mean   : 21572257   Mean   : 1104682    Mean   :4.010e+07  \n",
       " 3rd Qu.: 11530290   3rd Qu.: 1328085    3rd Qu.:2.896e+07  \n",
       " Max.   :723992003   Max.   :15296106    Max.   :1.439e+09  \n",
       " NA's   :4           NA's   :4                              "
      ]
     },
     "metadata": {},
     "output_type": "display_data"
    }
   ],
   "source": [
    "summary(covid_data)"
   ]
  },
  {
   "cell_type": "markdown",
   "id": "2de5ee7f",
   "metadata": {},
   "source": [
    "## 6. DATA CLEANING"
   ]
  },
  {
   "cell_type": "code",
   "execution_count": 19,
   "id": "bccd9746",
   "metadata": {},
   "outputs": [
    {
     "name": "stderr",
     "output_type": "stream",
     "text": [
      "Warning message:\n",
      "\"package 'zoo' was built under R version 3.6.3\"\n",
      "Attaching package: 'zoo'\n",
      "\n",
      "The following objects are masked from 'package:base':\n",
      "\n",
      "    as.Date, as.Date.numeric\n",
      "\n"
     ]
    }
   ],
   "source": [
    "library(zoo)"
   ]
  },
  {
   "cell_type": "code",
   "execution_count": 20,
   "id": "d1a3ded3",
   "metadata": {},
   "outputs": [
    {
     "data": {
      "text/html": [
       "<table>\n",
       "<thead><tr><th scope=col>Country</th><th scope=col>Total.Cases</th><th scope=col>Total.Deaths</th><th scope=col>Total.Recovered</th><th scope=col>Active.Cases</th><th scope=col>Total.Cases.1M.population</th><th scope=col>Deaths.1M.population</th><th scope=col>Total.Tests</th><th scope=col>Tests.1M.population</th><th scope=col>Population</th></tr></thead>\n",
       "<tbody>\n",
       "\t<tr><td>Afghanistan</td><td>156610     </td><td>7294       </td><td>129263     </td><td>20053      </td><td>  3903     </td><td> 182       </td><td> 780493    </td><td>  19450    </td><td>40128416   </td></tr>\n",
       "\t<tr><td>Albania    </td><td>193269     </td><td>2997       </td><td>181839     </td><td> 8433      </td><td> 67259     </td><td>1043       </td><td>1352267    </td><td> 470602    </td><td> 2873485   </td></tr>\n",
       "\t<tr><td>Algeria    </td><td>208104     </td><td>5991       </td><td>142776     </td><td>59337      </td><td>  4631     </td><td> 133       </td><td> 230861    </td><td>   5138    </td><td>44935581   </td></tr>\n",
       "\t<tr><td>Andorra    </td><td> 15907     </td><td> 130       </td><td> 15458     </td><td>  319      </td><td>205424     </td><td>1679       </td><td> 193595    </td><td>2500097    </td><td>   77435   </td></tr>\n",
       "\t<tr><td>Angola     </td><td> 64913     </td><td>1727       </td><td> 61687     </td><td> 1499      </td><td>  1894     </td><td>  50       </td><td>1143072    </td><td>  33361    </td><td>34264113   </td></tr>\n",
       "\t<tr><td>Anguilla   </td><td>  1137     </td><td>   4       </td><td>  1053     </td><td>   80      </td><td> 74867     </td><td> 263       </td><td>  51382    </td><td>3383288    </td><td>   15187   </td></tr>\n",
       "</tbody>\n",
       "</table>\n"
      ],
      "text/latex": [
       "\\begin{tabular}{r|llllllllll}\n",
       " Country & Total.Cases & Total.Deaths & Total.Recovered & Active.Cases & Total.Cases.1M.population & Deaths.1M.population & Total.Tests & Tests.1M.population & Population\\\\\n",
       "\\hline\n",
       "\t Afghanistan & 156610      & 7294        & 129263      & 20053       &   3903      &  182        &  780493     &   19450     & 40128416   \\\\\n",
       "\t Albania     & 193269      & 2997        & 181839      &  8433       &  67259      & 1043        & 1352267     &  470602     &  2873485   \\\\\n",
       "\t Algeria     & 208104      & 5991        & 142776      & 59337       &   4631      &  133        &  230861     &    5138     & 44935581   \\\\\n",
       "\t Andorra     &  15907      &  130        &  15458      &   319       & 205424      & 1679        &  193595     & 2500097     &    77435   \\\\\n",
       "\t Angola      &  64913      & 1727        &  61687      &  1499       &   1894      &   50        & 1143072     &   33361     & 34264113   \\\\\n",
       "\t Anguilla    &   1137      &    4        &   1053      &    80       &  74867      &  263        &   51382     & 3383288     &    15187   \\\\\n",
       "\\end{tabular}\n"
      ],
      "text/markdown": [
       "\n",
       "| Country | Total.Cases | Total.Deaths | Total.Recovered | Active.Cases | Total.Cases.1M.population | Deaths.1M.population | Total.Tests | Tests.1M.population | Population |\n",
       "|---|---|---|---|---|---|---|---|---|---|\n",
       "| Afghanistan | 156610      | 7294        | 129263      | 20053       |   3903      |  182        |  780493     |   19450     | 40128416    |\n",
       "| Albania     | 193269      | 2997        | 181839      |  8433       |  67259      | 1043        | 1352267     |  470602     |  2873485    |\n",
       "| Algeria     | 208104      | 5991        | 142776      | 59337       |   4631      |  133        |  230861     |    5138     | 44935581    |\n",
       "| Andorra     |  15907      |  130        |  15458      |   319       | 205424      | 1679        |  193595     | 2500097     |    77435    |\n",
       "| Angola      |  64913      | 1727        |  61687      |  1499       |   1894      |   50        | 1143072     |   33361     | 34264113    |\n",
       "| Anguilla    |   1137      |    4        |   1053      |    80       |  74867      |  263        |   51382     | 3383288     |    15187    |\n",
       "\n"
      ],
      "text/plain": [
       "  Country     Total.Cases Total.Deaths Total.Recovered Active.Cases\n",
       "1 Afghanistan 156610      7294         129263          20053       \n",
       "2 Albania     193269      2997         181839           8433       \n",
       "3 Algeria     208104      5991         142776          59337       \n",
       "4 Andorra      15907       130          15458            319       \n",
       "5 Angola       64913      1727          61687           1499       \n",
       "6 Anguilla      1137         4           1053             80       \n",
       "  Total.Cases.1M.population Deaths.1M.population Total.Tests\n",
       "1   3903                     182                  780493    \n",
       "2  67259                    1043                 1352267    \n",
       "3   4631                     133                  230861    \n",
       "4 205424                    1679                  193595    \n",
       "5   1894                      50                 1143072    \n",
       "6  74867                     263                   51382    \n",
       "  Tests.1M.population Population\n",
       "1   19450             40128416  \n",
       "2  470602              2873485  \n",
       "3    5138             44935581  \n",
       "4 2500097                77435  \n",
       "5   33361             34264113  \n",
       "6 3383288                15187  "
      ]
     },
     "metadata": {},
     "output_type": "display_data"
    }
   ],
   "source": [
    "covid_data = na.locf(na.locf(covid_data),fromLast=TRUE) \n",
    "head(covid_data)"
   ]
  },
  {
   "cell_type": "code",
   "execution_count": 21,
   "id": "f57843e6",
   "metadata": {},
   "outputs": [
    {
     "data": {
      "text/html": [
       "FALSE"
      ],
      "text/latex": [
       "FALSE"
      ],
      "text/markdown": [
       "FALSE"
      ],
      "text/plain": [
       "[1] FALSE"
      ]
     },
     "metadata": {},
     "output_type": "display_data"
    }
   ],
   "source": [
    "any(is.na(covid_data))"
   ]
  },
  {
   "cell_type": "markdown",
   "id": "408caa27",
   "metadata": {},
   "source": [
    "## 7. STATISTICAL ANALYSIS FOR NUMERIC COLUMN"
   ]
  },
  {
   "cell_type": "markdown",
   "id": "89f65b14",
   "metadata": {},
   "source": [
    "### Statistics analysis for Total Cases"
   ]
  },
  {
   "cell_type": "code",
   "execution_count": 22,
   "id": "da0f7a39",
   "metadata": {},
   "outputs": [
    {
     "data": {
      "text/html": [
       "1299231.67857143"
      ],
      "text/latex": [
       "1299231.67857143"
      ],
      "text/markdown": [
       "1299231.67857143"
      ],
      "text/plain": [
       "[1] 1299232"
      ]
     },
     "metadata": {},
     "output_type": "display_data"
    }
   ],
   "source": [
    "#FIND MEAN FOR TOTAL CASES\n",
    "mean(covid_data$Total.Cases)"
   ]
  },
  {
   "cell_type": "code",
   "execution_count": 23,
   "id": "a72f9fdb",
   "metadata": {},
   "outputs": [
    {
     "data": {
      "text/html": [
       "186316"
      ],
      "text/latex": [
       "186316"
      ],
      "text/markdown": [
       "186316"
      ],
      "text/plain": [
       "[1] 186316"
      ]
     },
     "metadata": {},
     "output_type": "display_data"
    }
   ],
   "source": [
    "#FIND MEDIAN FOR TOTAL CASES\n",
    "median(covid_data$Total.Cases)"
   ]
  },
  {
   "cell_type": "code",
   "execution_count": 24,
   "id": "70ddc33b",
   "metadata": {},
   "outputs": [
    {
     "data": {
      "text/html": [
       "<ol class=list-inline>\n",
       "\t<li>1137</li>\n",
       "\t<li>48072898</li>\n",
       "</ol>\n"
      ],
      "text/latex": [
       "\\begin{enumerate*}\n",
       "\\item 1137\n",
       "\\item 48072898\n",
       "\\end{enumerate*}\n"
      ],
      "text/markdown": [
       "1. 1137\n",
       "2. 48072898\n",
       "\n",
       "\n"
      ],
      "text/plain": [
       "[1]     1137 48072898"
      ]
     },
     "metadata": {},
     "output_type": "display_data"
    }
   ],
   "source": [
    "#FIND RANGE FOR TOTAL CASES\n",
    "range(covid_data$Total.Cases)"
   ]
  },
  {
   "cell_type": "code",
   "execution_count": 25,
   "id": "cdcfbacd",
   "metadata": {},
   "outputs": [
    {
     "data": {
      "text/html": [
       "4672551.25112517"
      ],
      "text/latex": [
       "4672551.25112517"
      ],
      "text/markdown": [
       "4672551.25112517"
      ],
      "text/plain": [
       "[1] 4672551"
      ]
     },
     "metadata": {},
     "output_type": "display_data"
    }
   ],
   "source": [
    "#FIND STANDARD DEVIATION FOR TOTAL CASES\n",
    "sd(covid_data$Total.Cases)"
   ]
  },
  {
   "cell_type": "code",
   "execution_count": 26,
   "id": "0e393027",
   "metadata": {},
   "outputs": [
    {
     "data": {
      "text/html": [
       "21832735194391.4"
      ],
      "text/latex": [
       "21832735194391.4"
      ],
      "text/markdown": [
       "21832735194391.4"
      ],
      "text/plain": [
       "[1] 2.183274e+13"
      ]
     },
     "metadata": {},
     "output_type": "display_data"
    }
   ],
   "source": [
    "#FIND VARIANCE FOR TOTAL CASES\n",
    "var(covid_data$Total.Cases)"
   ]
  },
  {
   "cell_type": "markdown",
   "id": "edbc40f1",
   "metadata": {},
   "source": [
    "### Determine the skewness for Total cases?"
   ]
  },
  {
   "cell_type": "code",
   "execution_count": 27,
   "id": "5c208a4b",
   "metadata": {},
   "outputs": [
    {
     "name": "stderr",
     "output_type": "stream",
     "text": [
      "Warning message:\n",
      "\"package 'e1071' was built under R version 3.6.3\""
     ]
    },
    {
     "data": {
      "text/html": [
       "7.47422429048117"
      ],
      "text/latex": [
       "7.47422429048117"
      ],
      "text/markdown": [
       "7.47422429048117"
      ],
      "text/plain": [
       "[1] 7.474224"
      ]
     },
     "metadata": {},
     "output_type": "display_data"
    },
    {
     "data": {
      "image/png": "[encoded data removed]",
      "text/plain": [
       "Plot with title \"density.default(x = covid_data$Total.Cases)\""
      ]
     },
     "metadata": {},
     "output_type": "display_data"
    }
   ],
   "source": [
    "library(e1071)\n",
    "skewness(covid_data$Total.Cases)\n",
    "plot(density(covid_data$Total.Cases))"
   ]
  },
  {
   "cell_type": "code",
   "execution_count": 28,
   "id": "3b1cd086",
   "metadata": {},
   "outputs": [
    {
     "data": {
      "text/html": [
       "'63.2728198742621 is leptokurtic'"
      ],
      "text/latex": [
       "'63.2728198742621 is leptokurtic'"
      ],
      "text/markdown": [
       "'63.2728198742621 is leptokurtic'"
      ],
      "text/plain": [
       "[1] \"63.2728198742621 is leptokurtic\""
      ]
     },
     "metadata": {},
     "output_type": "display_data"
    }
   ],
   "source": [
    "library(e1071)\n",
    "Cases=kurtosis(covid_data$Total.Cases)\n",
    "if(Cases==3){\n",
    "    paste(Cases,\"is mesokurtic\")\n",
    "}else if(Cases>3){\n",
    "    paste(Cases,\"is leptokurtic\")\n",
    "}else{\n",
    "    paste(Cases,\"is platykurtic\")\n",
    "}\n"
   ]
  },
  {
   "cell_type": "markdown",
   "id": "427a1f0c",
   "metadata": {},
   "source": [
    "### Statistics analysis for Total Deaths"
   ]
  },
  {
   "cell_type": "code",
   "execution_count": 29,
   "id": "670beaf7",
   "metadata": {},
   "outputs": [
    {
     "data": {
      "text/html": [
       "26145.9540816327"
      ],
      "text/latex": [
       "26145.9540816327"
      ],
      "text/markdown": [
       "26145.9540816327"
      ],
      "text/plain": [
       "[1] 26145.95"
      ]
     },
     "metadata": {},
     "output_type": "display_data"
    }
   ],
   "source": [
    "#FIND MEAN FOR TOTAL DEATHS\n",
    "mean(covid_data$Total.Deaths)"
   ]
  },
  {
   "cell_type": "code",
   "execution_count": 30,
   "id": "a51a0c9a",
   "metadata": {},
   "outputs": [
    {
     "data": {
      "text/html": [
       "2439"
      ],
      "text/latex": [
       "2439"
      ],
      "text/markdown": [
       "2439"
      ],
      "text/plain": [
       "[1] 2439"
      ]
     },
     "metadata": {},
     "output_type": "display_data"
    }
   ],
   "source": [
    "#FIND MEDIAN FOR TOTAL DEATHS\n",
    "median(covid_data$Total.Deaths)"
   ]
  },
  {
   "cell_type": "code",
   "execution_count": 31,
   "id": "afceb850",
   "metadata": {},
   "outputs": [
    {
     "data": {
      "text/html": [
       "<ol class=list-inline>\n",
       "\t<li>3</li>\n",
       "\t<li>784779</li>\n",
       "</ol>\n"
      ],
      "text/latex": [
       "\\begin{enumerate*}\n",
       "\\item 3\n",
       "\\item 784779\n",
       "\\end{enumerate*}\n"
      ],
      "text/markdown": [
       "1. 3\n",
       "2. 784779\n",
       "\n",
       "\n"
      ],
      "text/plain": [
       "[1]      3 784779"
      ]
     },
     "metadata": {},
     "output_type": "display_data"
    }
   ],
   "source": [
    "#FIND RANGE FOR TOTAL DEATHS\n",
    "range(covid_data$Total.Deaths)"
   ]
  },
  {
   "cell_type": "code",
   "execution_count": 32,
   "id": "e09bbe7b",
   "metadata": {},
   "outputs": [
    {
     "data": {
      "text/html": [
       "86151.4754636687"
      ],
      "text/latex": [
       "86151.4754636687"
      ],
      "text/markdown": [
       "86151.4754636687"
      ],
      "text/plain": [
       "[1] 86151.48"
      ]
     },
     "metadata": {},
     "output_type": "display_data"
    }
   ],
   "source": [
    "#FIND STANDARD DEVIATION FOR TOTAL DEATHS\n",
    "sd(covid_data$Total.Deaths)"
   ]
  },
  {
   "cell_type": "code",
   "execution_count": 33,
   "id": "6ee6eff4",
   "metadata": {},
   "outputs": [
    {
     "data": {
      "text/html": [
       "7422076724.56711"
      ],
      "text/latex": [
       "7422076724.56711"
      ],
      "text/markdown": [
       "7422076724.56711"
      ],
      "text/plain": [
       "[1] 7422076725"
      ]
     },
     "metadata": {},
     "output_type": "display_data"
    }
   ],
   "source": [
    "#FIND VARIANCE FOR TOTAL DEATHS\n",
    "var(covid_data$Total.Deaths)"
   ]
  },
  {
   "cell_type": "markdown",
   "id": "206cd885",
   "metadata": {},
   "source": [
    "### Determine the skewness for Total deaths?"
   ]
  },
  {
   "cell_type": "code",
   "execution_count": 34,
   "id": "6a90af98",
   "metadata": {},
   "outputs": [
    {
     "data": {
      "text/html": [
       "6.10077340031975"
      ],
      "text/latex": [
       "6.10077340031975"
      ],
      "text/markdown": [
       "6.10077340031975"
      ],
      "text/plain": [
       "[1] 6.100773"
      ]
     },
     "metadata": {},
     "output_type": "display_data"
    },
    {
     "data": {
      "image/png": "[encoded data removed]",
      "text/plain": [
       "Plot with title \"density.default(x = covid_data$Total.Deaths)\""
      ]
     },
     "metadata": {},
     "output_type": "display_data"
    }
   ],
   "source": [
    "library(e1071)\n",
    "skewness(covid_data$Total.Deaths)\n",
    "plot(density(covid_data$Total.Deaths))"
   ]
  },
  {
   "cell_type": "code",
   "execution_count": 35,
   "id": "c7accc56",
   "metadata": {},
   "outputs": [
    {
     "data": {
      "text/html": [
       "'42.8434545586341 is leptokurtic'"
      ],
      "text/latex": [
       "'42.8434545586341 is leptokurtic'"
      ],
      "text/markdown": [
       "'42.8434545586341 is leptokurtic'"
      ],
      "text/plain": [
       "[1] \"42.8434545586341 is leptokurtic\""
      ]
     },
     "metadata": {},
     "output_type": "display_data"
    }
   ],
   "source": [
    "library(e1071)\n",
    "Cases=kurtosis(covid_data$Total.Deaths)\n",
    "if(Cases==3){\n",
    "    paste(Cases,\"is mesokurtic\")\n",
    "}else if(Cases>3){\n",
    "    paste(Cases,\"is leptokurtic\")\n",
    "}else{\n",
    "    paste(Cases,\"is platykurtic\")\n",
    "}"
   ]
  },
  {
   "cell_type": "markdown",
   "id": "e1ae9d68",
   "metadata": {},
   "source": [
    "### Statistics analysis for Total Recovered"
   ]
  },
  {
   "cell_type": "code",
   "execution_count": 36,
   "id": "09637ca6",
   "metadata": {},
   "outputs": [
    {
     "data": {
      "text/html": [
       "1168274.55612245"
      ],
      "text/latex": [
       "1168274.55612245"
      ],
      "text/markdown": [
       "1168274.55612245"
      ],
      "text/plain": [
       "[1] 1168275"
      ]
     },
     "metadata": {},
     "output_type": "display_data"
    }
   ],
   "source": [
    "#FIND MEAN FOR TOTAL RECOVERED\n",
    "mean(covid_data$Total.Recovered)"
   ]
  },
  {
   "cell_type": "code",
   "execution_count": 37,
   "id": "24c3c801",
   "metadata": {},
   "outputs": [
    {
     "data": {
      "text/html": [
       "144166.5"
      ],
      "text/latex": [
       "144166.5"
      ],
      "text/markdown": [
       "144166.5"
      ],
      "text/plain": [
       "[1] 144166.5"
      ]
     },
     "metadata": {},
     "output_type": "display_data"
    }
   ],
   "source": [
    "#FIND MEDIAN FOR TOTAL RECOVERED\n",
    "median(covid_data$Total.Recovered)"
   ]
  },
  {
   "cell_type": "code",
   "execution_count": 38,
   "id": "271cabce",
   "metadata": {},
   "outputs": [
    {
     "data": {
      "text/html": [
       "<ol class=list-inline>\n",
       "\t<li>55</li>\n",
       "\t<li>38050509</li>\n",
       "</ol>\n"
      ],
      "text/latex": [
       "\\begin{enumerate*}\n",
       "\\item 55\n",
       "\\item 38050509\n",
       "\\end{enumerate*}\n"
      ],
      "text/markdown": [
       "1. 55\n",
       "2. 38050509\n",
       "\n",
       "\n"
      ],
      "text/plain": [
       "[1]       55 38050509"
      ]
     },
     "metadata": {},
     "output_type": "display_data"
    }
   ],
   "source": [
    "#FIND RANGE FOR TOTAL RECOVERED\n",
    "range(covid_data$Total.Recovered)"
   ]
  },
  {
   "cell_type": "code",
   "execution_count": 39,
   "id": "d5a8288d",
   "metadata": {},
   "outputs": [
    {
     "data": {
      "text/html": [
       "4098502.99311921"
      ],
      "text/latex": [
       "4098502.99311921"
      ],
      "text/markdown": [
       "4098502.99311921"
      ],
      "text/plain": [
       "[1] 4098503"
      ]
     },
     "metadata": {},
     "output_type": "display_data"
    }
   ],
   "source": [
    "#FIND STANDARD DEVIATION FOR TOTAL RECOVERED\n",
    "sd(covid_data$Total.Recovered)"
   ]
  },
  {
   "cell_type": "code",
   "execution_count": 40,
   "id": "785d39dd",
   "metadata": {},
   "outputs": [
    {
     "data": {
      "text/html": [
       "16797726784607.1"
      ],
      "text/latex": [
       "16797726784607.1"
      ],
      "text/markdown": [
       "16797726784607.1"
      ],
      "text/plain": [
       "[1] 1.679773e+13"
      ]
     },
     "metadata": {},
     "output_type": "display_data"
    }
   ],
   "source": [
    "#FIND VARIANCE FOR TOTAL RECOVERED\n",
    "var(covid_data$Total.Recovered)"
   ]
  },
  {
   "cell_type": "markdown",
   "id": "1770fe93",
   "metadata": {},
   "source": [
    "### Determine the skewness for Total Recovered?"
   ]
  },
  {
   "cell_type": "code",
   "execution_count": 41,
   "id": "ae2d0026",
   "metadata": {},
   "outputs": [
    {
     "data": {
      "text/html": [
       "6.9982928710392"
      ],
      "text/latex": [
       "6.9982928710392"
      ],
      "text/markdown": [
       "6.9982928710392"
      ],
      "text/plain": [
       "[1] 6.998293"
      ]
     },
     "metadata": {},
     "output_type": "display_data"
    },
    {
     "data": {
      "image/png": "[encoded data removed]",
      "text/plain": [
       "Plot with title \"density.default(x = covid_data$Total.Recovered)\""
      ]
     },
     "metadata": {},
     "output_type": "display_data"
    }
   ],
   "source": [
    "library(e1071)\n",
    "skewness(covid_data$Total.Recovered)\n",
    "plot(density(covid_data$Total.Recovered))"
   ]
  },
  {
   "cell_type": "code",
   "execution_count": 42,
   "id": "86c9c62e",
   "metadata": {},
   "outputs": [
    {
     "data": {
      "text/html": [
       "'54.1669377005849 is leptokurtic'"
      ],
      "text/latex": [
       "'54.1669377005849 is leptokurtic'"
      ],
      "text/markdown": [
       "'54.1669377005849 is leptokurtic'"
      ],
      "text/plain": [
       "[1] \"54.1669377005849 is leptokurtic\""
      ]
     },
     "metadata": {},
     "output_type": "display_data"
    }
   ],
   "source": [
    "library(e1071)\n",
    "Cases=kurtosis(covid_data$Total.Recovered)\n",
    "if(Cases==3){\n",
    "    paste(Cases,\"is mesokurtic\")\n",
    "}else if(Cases>3){\n",
    "    paste(Cases,\"is leptokurtic\")\n",
    "}else{\n",
    "    paste(Cases,\"is platykurtic\")\n",
    "}"
   ]
  },
  {
   "cell_type": "markdown",
   "id": "759dd747",
   "metadata": {},
   "source": [
    "### Statistics analysis for Active Cases"
   ]
  },
  {
   "cell_type": "code",
   "execution_count": 43,
   "id": "807f1066",
   "metadata": {},
   "outputs": [
    {
     "data": {
      "text/html": [
       "96762.4234693878"
      ],
      "text/latex": [
       "96762.4234693878"
      ],
      "text/markdown": [
       "96762.4234693878"
      ],
      "text/plain": [
       "[1] 96762.42"
      ]
     },
     "metadata": {},
     "output_type": "display_data"
    }
   ],
   "source": [
    "#FIND MEAN FOR ACTIVE CASES\n",
    "mean(covid_data$Active.Cases)"
   ]
  },
  {
   "cell_type": "code",
   "execution_count": 44,
   "id": "cc34f41f",
   "metadata": {},
   "outputs": [
    {
     "data": {
      "text/html": [
       "6100.5"
      ],
      "text/latex": [
       "6100.5"
      ],
      "text/markdown": [
       "6100.5"
      ],
      "text/plain": [
       "[1] 6100.5"
      ]
     },
     "metadata": {},
     "output_type": "display_data"
    }
   ],
   "source": [
    "#FIND MEDIAN FOR ACTIVE CASES\n",
    "median(covid_data$Active.Cases)"
   ]
  },
  {
   "cell_type": "code",
   "execution_count": 45,
   "id": "555cf8c3",
   "metadata": {},
   "outputs": [
    {
     "data": {
      "text/html": [
       "<ol class=list-inline>\n",
       "\t<li>2</li>\n",
       "\t<li>9237610</li>\n",
       "</ol>\n"
      ],
      "text/latex": [
       "\\begin{enumerate*}\n",
       "\\item 2\n",
       "\\item 9237610\n",
       "\\end{enumerate*}\n"
      ],
      "text/markdown": [
       "1. 2\n",
       "2. 9237610\n",
       "\n",
       "\n"
      ],
      "text/plain": [
       "[1]       2 9237610"
      ]
     },
     "metadata": {},
     "output_type": "display_data"
    }
   ],
   "source": [
    "#FIND RANGE FOR ACTIVE CASES\n",
    "range(covid_data$Active.Cases)"
   ]
  },
  {
   "cell_type": "code",
   "execution_count": 46,
   "id": "04e32d04",
   "metadata": {},
   "outputs": [
    {
     "data": {
      "text/html": [
       "673928.025729583"
      ],
      "text/latex": [
       "673928.025729583"
      ],
      "text/markdown": [
       "673928.025729583"
      ],
      "text/plain": [
       "[1] 673928"
      ]
     },
     "metadata": {},
     "output_type": "display_data"
    }
   ],
   "source": [
    "#FIND STANDARD DEVIATION FOR ACTIVE CASES\n",
    "sd(covid_data$Active.Cases)"
   ]
  },
  {
   "cell_type": "code",
   "execution_count": 47,
   "id": "e6ad1c4c",
   "metadata": {},
   "outputs": [
    {
     "data": {
      "text/html": [
       "454178983863.774"
      ],
      "text/latex": [
       "454178983863.774"
      ],
      "text/markdown": [
       "454178983863.774"
      ],
      "text/plain": [
       "[1] 4.54179e+11"
      ]
     },
     "metadata": {},
     "output_type": "display_data"
    }
   ],
   "source": [
    "#FIND VARIANCE DEVIATION FOR ACTIVE CASES\n",
    "var(covid_data$Active.Cases)"
   ]
  },
  {
   "cell_type": "markdown",
   "id": "8203757d",
   "metadata": {},
   "source": [
    "### Determine the skewness for Active Cases?"
   ]
  },
  {
   "cell_type": "code",
   "execution_count": 48,
   "id": "51340f8f",
   "metadata": {},
   "outputs": [
    {
     "data": {
      "text/html": [
       "12.8023596143824"
      ],
      "text/latex": [
       "12.8023596143824"
      ],
      "text/markdown": [
       "12.8023596143824"
      ],
      "text/plain": [
       "[1] 12.80236"
      ]
     },
     "metadata": {},
     "output_type": "display_data"
    },
    {
     "data": {
      "image/png": "[encoded data removed]",
      "text/plain": [
       "Plot with title \"density.default(x = covid_data$Active.Cases)\""
      ]
     },
     "metadata": {},
     "output_type": "display_data"
    }
   ],
   "source": [
    "library(e1071)\n",
    "skewness(covid_data$Active.Cases)\n",
    "plot(density(covid_data$Active.Cases))"
   ]
  },
  {
   "cell_type": "code",
   "execution_count": 49,
   "id": "1261e3af",
   "metadata": {},
   "outputs": [
    {
     "data": {
      "text/html": [
       "'169.823247397105 is leptokurtic'"
      ],
      "text/latex": [
       "'169.823247397105 is leptokurtic'"
      ],
      "text/markdown": [
       "'169.823247397105 is leptokurtic'"
      ],
      "text/plain": [
       "[1] \"169.823247397105 is leptokurtic\""
      ]
     },
     "metadata": {},
     "output_type": "display_data"
    }
   ],
   "source": [
    "library(e1071)\n",
    "Cases=kurtosis(covid_data$Active.Cases)\n",
    "if(Cases==3){\n",
    "    paste(Cases,\"is mesokurtic\")\n",
    "}else if(Cases>3){\n",
    "    paste(Cases,\"is leptokurtic\")\n",
    "}else{\n",
    "    paste(Cases,\"is platykurtic\")\n",
    "}"
   ]
  },
  {
   "cell_type": "markdown",
   "id": "0ad47ccb",
   "metadata": {},
   "source": [
    "## 8. CHECK THE THE RELATIONSHIP BETWEEN THE COLUMN"
   ]
  },
  {
   "cell_type": "code",
   "execution_count": 50,
   "id": "dd90aefa",
   "metadata": {},
   "outputs": [
    {
     "name": "stderr",
     "output_type": "stream",
     "text": [
      "Warning message:\n",
      "\"package 'writexl' was built under R version 3.6.3\""
     ]
    }
   ],
   "source": [
    "library(\"writexl\")"
   ]
  },
  {
   "cell_type": "markdown",
   "id": "6d924c1e",
   "metadata": {},
   "source": [
    "### What is Correlation between the Total Recovered and Active Cases?"
   ]
  },
  {
   "cell_type": "code",
   "execution_count": 51,
   "id": "a77c1d33",
   "metadata": {},
   "outputs": [
    {
     "name": "stderr",
     "output_type": "stream",
     "text": [
      "Warning message in cor.test.default(covid_data$Total.Recovered, covid_data$Active.Cases, :\n",
      "\"Cannot compute exact p-value with ties\""
     ]
    }
   ],
   "source": [
    "result=cor.test(covid_data$Total.Recovered,covid_data$Active.Cases,method=\"spearman\",use=complete.obs)"
   ]
  },
  {
   "cell_type": "code",
   "execution_count": 52,
   "id": "a1a29952",
   "metadata": {},
   "outputs": [
    {
     "data": {
      "text/html": [
       "<strong>rho:</strong> 0.63573478557668"
      ],
      "text/latex": [
       "\\textbf{rho:} 0.63573478557668"
      ],
      "text/markdown": [
       "**rho:** 0.63573478557668"
      ],
      "text/plain": [
       "      rho \n",
       "0.6357348 "
      ]
     },
     "metadata": {},
     "output_type": "display_data"
    }
   ],
   "source": [
    "correlation=result$estimate\n",
    "correlation"
   ]
  },
  {
   "cell_type": "code",
   "execution_count": 53,
   "id": "b2f88110",
   "metadata": {},
   "outputs": [
    {
     "name": "stdout",
     "output_type": "stream",
     "text": [
      "[1] \"positive correlation\"\n"
     ]
    }
   ],
   "source": [
    "if(correlation>0 & correlation<2){\n",
    "    print(paste('positive correlation'))\n",
    "}else if(correlation == 0){\n",
    "    print(paste('No correlation'))\n",
    "}else if(correlation < 0 & correlation==-1){\n",
    "    print(paste('Negative correlation'))\n",
    "}else{\n",
    "    print(paste('invalid'))\n",
    "}"
   ]
  },
  {
   "cell_type": "markdown",
   "id": "a5e1fabc",
   "metadata": {},
   "source": [
    "### Is there a positive relation between the population tested and recovered ?"
   ]
  },
  {
   "cell_type": "code",
   "execution_count": 54,
   "id": "742ab942",
   "metadata": {},
   "outputs": [],
   "source": [
    "result1=cor.test(covid_data$Population,covid_data$Total.Recovered,method=\"pearson\",use=complete.obs)"
   ]
  },
  {
   "cell_type": "code",
   "execution_count": 55,
   "id": "abb77651",
   "metadata": {},
   "outputs": [
    {
     "data": {
      "text/html": [
       "<strong>rho:</strong> 0.63573478557668"
      ],
      "text/latex": [
       "\\textbf{rho:} 0.63573478557668"
      ],
      "text/markdown": [
       "**rho:** 0.63573478557668"
      ],
      "text/plain": [
       "      rho \n",
       "0.6357348 "
      ]
     },
     "metadata": {},
     "output_type": "display_data"
    }
   ],
   "source": [
    "correlation1=result$estimate\n",
    "correlation1"
   ]
  },
  {
   "cell_type": "code",
   "execution_count": 56,
   "id": "7ffd8344",
   "metadata": {},
   "outputs": [
    {
     "name": "stderr",
     "output_type": "stream",
     "text": [
      "Warning message in cor.test.default(covid_data$Total.Tests, covid_data$Tests.1M.population, :\n",
      "\"Cannot compute exact p-value with ties\""
     ]
    }
   ],
   "source": [
    "result2=cor.test(covid_data$Total.Tests,covid_data$Tests.1M.population,method=\"spearman\",use=complete.obs)"
   ]
  },
  {
   "cell_type": "code",
   "execution_count": 57,
   "id": "bb8cbc0e",
   "metadata": {},
   "outputs": [
    {
     "data": {
      "text/html": [
       "<strong>rho:</strong> 0.416428928889045"
      ],
      "text/latex": [
       "\\textbf{rho:} 0.416428928889045"
      ],
      "text/markdown": [
       "**rho:** 0.416428928889045"
      ],
      "text/plain": [
       "      rho \n",
       "0.4164289 "
      ]
     },
     "metadata": {},
     "output_type": "display_data"
    }
   ],
   "source": [
    "correlation1=result2$estimate\n",
    "correlation1"
   ]
  },
  {
   "cell_type": "code",
   "execution_count": 58,
   "id": "0f33a66f",
   "metadata": {},
   "outputs": [
    {
     "name": "stdout",
     "output_type": "stream",
     "text": [
      "[1] \"positive correlation\"\n"
     ]
    }
   ],
   "source": [
    "if(correlation1>0 & correlation1<2){\n",
    "    print(paste('positive correlation'))\n",
    "}else if(correlation1 == 0){\n",
    "    print(paste('No correlation'))\n",
    "}else if(correlation1 < 0 & correlation1==-1){\n",
    "    print(paste('Negative correlation'))\n",
    "}else{\n",
    "    print(paste('invalid'))\n",
    "}"
   ]
  },
  {
   "cell_type": "markdown",
   "id": "c009c4ce",
   "metadata": {},
   "source": [
    "### What is Correlation between the total death and total cases?"
   ]
  },
  {
   "cell_type": "code",
   "execution_count": 59,
   "id": "e0968cfa",
   "metadata": {},
   "outputs": [],
   "source": [
    "result3=cor.test(covid_data$Total.Cases,covid_data$Total.Deaths,method=\"pearson\",use=complete.obs)"
   ]
  },
  {
   "cell_type": "code",
   "execution_count": 60,
   "id": "fcf593dc",
   "metadata": {},
   "outputs": [
    {
     "data": {
      "text/html": [
       "<strong>cor:</strong> 0.935552163128505"
      ],
      "text/latex": [
       "\\textbf{cor:} 0.935552163128505"
      ],
      "text/markdown": [
       "**cor:** 0.935552163128505"
      ],
      "text/plain": [
       "      cor \n",
       "0.9355522 "
      ]
     },
     "metadata": {},
     "output_type": "display_data"
    }
   ],
   "source": [
    "correlation2=result3$estimate\n",
    "correlation2"
   ]
  },
  {
   "cell_type": "code",
   "execution_count": 61,
   "id": "2792e74f",
   "metadata": {},
   "outputs": [
    {
     "name": "stdout",
     "output_type": "stream",
     "text": [
      "[1] \"positive correlation\"\n"
     ]
    }
   ],
   "source": [
    "if(correlation2>0 & correlation2<2){\n",
    "    print(paste('positive correlation'))\n",
    "}else if(correlation2 == 0){\n",
    "    print(paste('No correlation'))\n",
    "}else if(correlation2 < 0 & correlation2==-1){\n",
    "    print(paste('Negative correlation'))\n",
    "}else{\n",
    "    print(paste('invalid'))\n",
    "}"
   ]
  },
  {
   "cell_type": "markdown",
   "id": "00ab3ede",
   "metadata": {},
   "source": [
    "## 9. DATA VISUALIZATION USING GGPLOTS AND PLOTLY - ATLEAST 3 PLOTS"
   ]
  },
  {
   "cell_type": "code",
   "execution_count": 62,
   "id": "f5c34e61",
   "metadata": {},
   "outputs": [],
   "source": [
    "library(ggplot2)"
   ]
  },
  {
   "cell_type": "markdown",
   "id": "73d08bea",
   "metadata": {},
   "source": [
    "### Which Country has the highest number of active cases (top7)?"
   ]
  },
  {
   "cell_type": "code",
   "execution_count": 63,
   "id": "8a24584c",
   "metadata": {},
   "outputs": [],
   "source": [
    "sorted = order(covid_data['Active.Cases'],decreasing = TRUE)\n",
    "a=covid_data[sorted,] \n",
    "sort1 = a['Country']\n",
    "sort11 = a['Active.Cases']\n",
    "sorting1 = sort1[c(1:6),]\n",
    "sorting11 = sort11[c(1:6),]"
   ]
  },
  {
   "cell_type": "code",
   "execution_count": 64,
   "id": "ce316603",
   "metadata": {},
   "outputs": [
    {
     "data": {
      "image/png": "[encoded data removed]",
      "text/plain": [
       "plot without title"
      ]
     },
     "metadata": {},
     "output_type": "display_data"
    }
   ],
   "source": [
    "percentage=round(100*(sorting11/sum(sorting11)))\n",
    "pie(percentage,label=paste(sorting1,percentage,\"%\"),col=rainbow(length(sorting1)))"
   ]
  },
  {
   "cell_type": "markdown",
   "id": "f3fb9aa7",
   "metadata": {},
   "source": [
    "### Which Country has the lowest number of active cases (top7)?"
   ]
  },
  {
   "cell_type": "code",
   "execution_count": 65,
   "id": "6bbd62d0",
   "metadata": {},
   "outputs": [],
   "source": [
    "sorted2 = order(covid_data['Active.Cases'],decreasing = FALSE)\n",
    "a2=covid_data[sorted2,] \n",
    "sort2 = a2['Country']\n",
    "sort22 = a2['Active.Cases']\n",
    "sorting2 = sort2[c(1:6),]\n",
    "sorting22 = sort22[c(1:6),]"
   ]
  },
  {
   "cell_type": "code",
   "execution_count": 66,
   "id": "82c4e50f",
   "metadata": {},
   "outputs": [
    {
     "data": {
      "image/png": "[encoded data removed]",
      "text/plain": [
       "plot without title"
      ]
     },
     "metadata": {},
     "output_type": "display_data"
    }
   ],
   "source": [
    "percentage=round(100*(sorting22/sum(sorting22)))\n",
    "pie(percentage,label=paste(sorting2,percentage,\"%\"),col=rainbow(length(sorting2)))"
   ]
  },
  {
   "cell_type": "markdown",
   "id": "53423231",
   "metadata": {},
   "source": [
    "### Top 7 countries which as an highest numbers of death cases?\n"
   ]
  },
  {
   "cell_type": "code",
   "execution_count": 67,
   "id": "fa31289a",
   "metadata": {},
   "outputs": [],
   "source": [
    "sorted3 = order(covid_data['Total.Deaths'],decreasing = TRUE)\n",
    "a3=covid_data[sorted2,] \n",
    "sort3 = a3['Country']\n",
    "sort33 = a3['Total.Deaths']\n",
    "sorting3 = sort3[c(1:6),]\n",
    "sorting33 = sort33[c(1:6),]"
   ]
  },
  {
   "cell_type": "code",
   "execution_count": 68,
   "id": "7861eebc",
   "metadata": {},
   "outputs": [
    {
     "data": {
      "image/png": "[encoded data removed]",
      "text/plain": [
       "plot without title"
      ]
     },
     "metadata": {},
     "output_type": "display_data"
    }
   ],
   "source": [
    "percentage=round(100*(sorting33/sum(sorting33)))\n",
    "pie(percentage,label=paste(sorting3,percentage,\"%\"),col=rainbow(length(sorting3)))"
   ]
  },
  {
   "cell_type": "markdown",
   "id": "4a7c2e4c",
   "metadata": {},
   "source": [
    "### Top 7 countries which as an lowest numbers of death cases?"
   ]
  },
  {
   "cell_type": "code",
   "execution_count": 69,
   "id": "97d9d30e",
   "metadata": {},
   "outputs": [],
   "source": [
    "sorted4 = order(covid_data['Total.Deaths'],decreasing = FALSE)\n",
    "a4=covid_data[sorted4,] \n",
    "sort4 = a4['Country']\n",
    "sort44 = a4['Total.Deaths']\n",
    "sorting4 = sort4[c(1:6),]\n",
    "sorting44 = sort44[c(1:6),]"
   ]
  },
  {
   "cell_type": "code",
   "execution_count": 70,
   "id": "09cacf45",
   "metadata": {},
   "outputs": [
    {
     "data": {
      "image/png": "[encoded data removed]",
      "text/plain": [
       "plot without title"
      ]
     },
     "metadata": {},
     "output_type": "display_data"
    }
   ],
   "source": [
    "percentage=round(100*(sorting44/sum(sorting44)))\n",
    "pie(percentage,label=paste(sorting4,percentage,\"%\"),col=rainbow(length(sorting4)))"
   ]
  },
  {
   "cell_type": "markdown",
   "id": "f902361a",
   "metadata": {},
   "source": [
    "### Total tests with repect to population?"
   ]
  },
  {
   "cell_type": "code",
   "execution_count": 71,
   "id": "2375dac3",
   "metadata": {},
   "outputs": [],
   "source": [
    "covid_data1=head(covid_data,100)"
   ]
  },
  {
   "cell_type": "code",
   "execution_count": 72,
   "id": "49809aad",
   "metadata": {},
   "outputs": [
    {
     "name": "stderr",
     "output_type": "stream",
     "text": [
      "`geom_smooth()` using method = 'loess' and formula 'y ~ x'\n"
     ]
    },
    {
     "data": {
      "image/png": "[encoded data removed]",
      "text/plain": [
       "plot without title"
      ]
     },
     "metadata": {},
     "output_type": "display_data"
    }
   ],
   "source": [
    "pl=ggplot(data=covid_data1,aes(x=Total.Tests,y=Population))\n",
    "pl=pl+geom_point()   \n",
    "pl = pl + stat_smooth()\n",
    "pl"
   ]
  },
  {
   "cell_type": "markdown",
   "id": "c51d9e0c",
   "metadata": {},
   "source": [
    "## Total recovered Covid Cases with respect to Countries"
   ]
  },
  {
   "cell_type": "code",
   "execution_count": 80,
   "id": "00964f29",
   "metadata": {},
   "outputs": [
    {
     "data": {
      "image/png": "[encoded data removed]",
      "text/plain": [
       "Plot with title \"Bar chart for total recovered covid cases in countries\""
      ]
     },
     "metadata": {},
     "output_type": "display_data"
    }
   ],
   "source": [
    "covid_data2=head(covid_data,25)\n",
    "barplot(covid_data2$Total.Recovered,names.arg=covid_data2$Country,xlab=\"Country\",ylab=\"Total Recovered\",col=c('blue','red','yellow','green','orange'),\n",
    "        main=\"Bar chart for total recovered covid cases in countries\",border=\"red\")"
   ]
  },
  {
   "cell_type": "markdown",
   "id": "e3c9fff0",
   "metadata": {},
   "source": [
    "## Number of Deaths within a population"
   ]
  },
  {
   "cell_type": "code",
   "execution_count": 81,
   "id": "badfe0c5",
   "metadata": {},
   "outputs": [
    {
     "name": "stderr",
     "output_type": "stream",
     "text": [
      "Warning message:\n",
      "\"Ignoring unknown parameters: binwidth, bins, pad\""
     ]
    },
    {
     "data": {
      "image/png": "[encoded data removed]",
      "text/plain": [
       "plot without title"
      ]
     },
     "metadata": {},
     "output_type": "display_data"
    }
   ],
   "source": [
    "pl = ggplot(data = covid_data2,aes(x=Population,y=Total.Deaths))\n",
    "pl + geom_histogram(stat=\"identity\",position=\"dodge\",binwidth = 5,color = 'red',fill = 'pink')"
   ]
  },
  {
   "cell_type": "markdown",
   "id": "a3f3dd30",
   "metadata": {},
   "source": [
    "## 10. CLASSIFICATION OR PREDICATION "
   ]
  },
  {
   "cell_type": "code",
   "execution_count": 144,
   "id": "7a1e9382",
   "metadata": {},
   "outputs": [],
   "source": [
    "# Dependent variable - Total.Cases\n",
    "# Independent variable - Population"
   ]
  },
  {
   "cell_type": "code",
   "execution_count": 84,
   "id": "3040e40f",
   "metadata": {},
   "outputs": [
    {
     "name": "stderr",
     "output_type": "stream",
     "text": [
      "Warning message:\n",
      "\"package 'caTools' was built under R version 3.6.3\""
     ]
    }
   ],
   "source": [
    "library(caTools)"
   ]
  },
  {
   "cell_type": "code",
   "execution_count": 85,
   "id": "b29f6108",
   "metadata": {},
   "outputs": [],
   "source": [
    "split=sample.split(covid_data,SplitRatio=0.7)"
   ]
  },
  {
   "cell_type": "code",
   "execution_count": 86,
   "id": "8c91d646",
   "metadata": {},
   "outputs": [],
   "source": [
    "train=subset(covid_data,split=TRUE)\n",
    "test=subset(covid_data,split=FALSE)"
   ]
  },
  {
   "cell_type": "code",
   "execution_count": 135,
   "id": "4c316130",
   "metadata": {},
   "outputs": [
    {
     "data": {
      "text/plain": [
       "\n",
       "Call:\n",
       "lm(formula = Total.Cases ~ Population, data = train)\n",
       "\n",
       "Coefficients:\n",
       "(Intercept)   Population  \n",
       "  6.577e+05    1.600e-02  \n"
      ]
     },
     "metadata": {},
     "output_type": "display_data"
    }
   ],
   "source": [
    "model=lm(Total.Cases~Population,data=train)\n",
    "model"
   ]
  },
  {
   "cell_type": "code",
   "execution_count": 165,
   "id": "f3e4efda",
   "metadata": {},
   "outputs": [
    {
     "data": {
      "text/html": [
       "<dl class=dl-horizontal>\n",
       "\t<dt>1</dt>\n",
       "\t\t<dd>1299702.75038811</dd>\n",
       "\t<dt>2</dt>\n",
       "\t\t<dd>703677.898300078</dd>\n",
       "\t<dt>3</dt>\n",
       "\t\t<dd>1376610.41686823</dd>\n",
       "\t<dt>4</dt>\n",
       "\t\t<dd>658945.154393486</dd>\n",
       "\t<dt>5</dt>\n",
       "\t\t<dd>1205882.40944655</dd>\n",
       "\t<dt>6</dt>\n",
       "\t\t<dd>657949.276693625</dd>\n",
       "\t<dt>7</dt>\n",
       "\t\t<dd>659290.819050716</dd>\n",
       "\t<dt>8</dt>\n",
       "\t\t<dd>1389870.46252786</dd>\n",
       "\t<dt>9</dt>\n",
       "\t\t<dd>705235.469069025</dd>\n",
       "\t<dt>10</dt>\n",
       "\t\t<dd>659424.35894213</dd>\n",
       "\t<dt>11</dt>\n",
       "\t\t<dd>1072155.78296448</dd>\n",
       "\t<dt>12</dt>\n",
       "\t\t<dd>802923.235335959</dd>\n",
       "\t<dt>13</dt>\n",
       "\t\t<dd>821923.144539641</dd>\n",
       "\t<dt>14</dt>\n",
       "\t\t<dd>664080.064791013</dd>\n",
       "\t<dt>15</dt>\n",
       "\t\t<dd>686222.201076636</dd>\n",
       "\t<dt>16</dt>\n",
       "\t\t<dd>3328485.75267294</dd>\n",
       "\t<dt>17</dt>\n",
       "\t\t<dd>662311.6171431</dd>\n",
       "\t<dt>18</dt>\n",
       "\t\t<dd>808813.533239536</dd>\n",
       "\t<dt>19</dt>\n",
       "\t\t<dd>844230.385854544</dd>\n",
       "\t<dt>20</dt>\n",
       "\t\t<dd>664225.939563975</dd>\n",
       "\t<dt>21</dt>\n",
       "\t\t<dd>858610.409961336</dd>\n",
       "\t<dt>22</dt>\n",
       "\t\t<dd>658697.608839413</dd>\n",
       "\t<dt>23</dt>\n",
       "\t\t<dd>670237.250494826</dd>\n",
       "\t<dt>24</dt>\n",
       "\t\t<dd>847948.736697084</dd>\n",
       "\t<dt>25</dt>\n",
       "\t\t<dd>709746.484037598</dd>\n",
       "\t<dt>26</dt>\n",
       "\t\t<dd>696369.073019944</dd>\n",
       "\t<dt>27</dt>\n",
       "\t\t<dd>4091499.63921</dd>\n",
       "\t<dt>28</dt>\n",
       "\t\t<dd>664797.21576412</dd>\n",
       "\t<dt>29</dt>\n",
       "\t\t<dd>767722.523122653</dd>\n",
       "\t<dt>30</dt>\n",
       "\t\t<dd>1004672.52593617</dd>\n",
       "\t<dt>31</dt>\n",
       "\t\t<dd>855689.554806733</dd>\n",
       "\t<dt>32</dt>\n",
       "\t\t<dd>666733.728172942</dd>\n",
       "\t<dt>33</dt>\n",
       "\t\t<dd>930258.329363358</dd>\n",
       "\t<dt>34</dt>\n",
       "\t\t<dd>1096867.84622474</dd>\n",
       "\t<dt>35</dt>\n",
       "\t\t<dd>1268785.2178021</dd>\n",
       "\t<dt>36</dt>\n",
       "\t\t<dd>736815.789557454</dd>\n",
       "\t<dt>37</dt>\n",
       "\t\t<dd>930809.799359409</dd>\n",
       "\t<dt>38</dt>\n",
       "\t\t<dd>967137.481385941</dd>\n",
       "\t<dt>39</dt>\n",
       "\t\t<dd>23684798.7658998</dd>\n",
       "\t<dt>40</dt>\n",
       "\t\t<dd>1483653.51085089</dd>\n",
       "\t<dt>41</dt>\n",
       "\t\t<dd>672024.384448378</dd>\n",
       "\t<dt>42</dt>\n",
       "\t\t<dd>748961.280278155</dd>\n",
       "\t<dt>43</dt>\n",
       "\t\t<dd>740225.19241352</dd>\n",
       "\t<dt>44</dt>\n",
       "\t\t<dd>722828.625828471</dd>\n",
       "\t<dt>45</dt>\n",
       "\t\t<dd>838763.953517413</dd>\n",
       "\t<dt>46</dt>\n",
       "\t\t<dd>660346.291346901</dd>\n",
       "\t<dt>47</dt>\n",
       "\t\t<dd>677215.129783132</dd>\n",
       "\t<dt>48</dt>\n",
       "\t\t<dd>829470.556186214</dd>\n",
       "\t<dt>49</dt>\n",
       "\t\t<dd>750820.807667511</dd>\n",
       "\t<dt>50</dt>\n",
       "\t\t<dd>673827.836922266</dd>\n",
       "\t<dt>51</dt>\n",
       "\t\t<dd>658861.897942675</dd>\n",
       "\t<dt>52</dt>\n",
       "\t\t<dd>833643.153840412</dd>\n",
       "\t<dt>53</dt>\n",
       "\t\t<dd>2150124.55130661</dd>\n",
       "\t<dt>54</dt>\n",
       "\t\t<dd>945842.228310094</dd>\n",
       "\t<dt>55</dt>\n",
       "\t\t<dd>2337197.4286748</dd>\n",
       "\t<dt>56</dt>\n",
       "\t\t<dd>762194.368382134</dd>\n",
       "\t<dt>57</dt>\n",
       "\t\t<dd>681160.052081548</dd>\n",
       "\t<dt>58</dt>\n",
       "\t\t<dd>715520.008529479</dd>\n",
       "\t<dt>59</dt>\n",
       "\t\t<dd>678948.524609421</dd>\n",
       "\t<dt>60</dt>\n",
       "\t\t<dd>676530.711841992</dd>\n",
       "\t<dt>61</dt>\n",
       "\t\t<dd>2559300.1697478</dd>\n",
       "\t<dt>62</dt>\n",
       "\t\t<dd>672190.64137321</dd>\n",
       "\t<dt>63</dt>\n",
       "\t\t<dd>746538.731940118</dd>\n",
       "\t<dt>64</dt>\n",
       "\t\t<dd>1705158.09816084</dd>\n",
       "\t<dt>65</dt>\n",
       "\t\t<dd>662654.242075953</dd>\n",
       "\t<dt>66</dt>\n",
       "\t\t<dd>662236.055994526</dd>\n",
       "\t<dt>67</dt>\n",
       "\t\t<dd>694464.765690961</dd>\n",
       "\t<dt>68</dt>\n",
       "\t\t<dd>697855.194267499</dd>\n",
       "\t<dt>69</dt>\n",
       "\t\t<dd>721359.063079492</dd>\n",
       "\t<dt>70</dt>\n",
       "\t\t<dd>2004007.73629155</dd>\n",
       "\t<dt>71</dt>\n",
       "\t\t<dd>1169035.6544864</dd>\n",
       "\t<dt>72</dt>\n",
       "\t\t<dd>823342.007885735</dd>\n",
       "\t<dt>73</dt>\n",
       "\t\t<dd>659517.95045582</dd>\n",
       "\t<dt>74</dt>\n",
       "\t\t<dd>664109.214147926</dd>\n",
       "\t<dt>75</dt>\n",
       "\t\t<dd>951590.891056286</dd>\n",
       "\t<dt>76</dt>\n",
       "\t\t<dd>875608.196705317</dd>\n",
       "\t<dt>77</dt>\n",
       "\t\t<dd>690209.93549311</dd>\n",
       "\t<dt>78</dt>\n",
       "\t\t<dd>670373.286159938</dd>\n",
       "\t<dt>79</dt>\n",
       "\t\t<dd>843178.32124937</dd>\n",
       "\t<dt>80</dt>\n",
       "\t\t<dd>819618.457514657</dd>\n",
       "\t<dt>81</dt>\n",
       "\t\t<dd>778981.470229742</dd>\n",
       "\t<dt>82</dt>\n",
       "\t\t<dd>811719.317760652</dd>\n",
       "\t<dt>83</dt>\n",
       "\t\t<dd>663214.287294455</dd>\n",
       "\t<dt>84</dt>\n",
       "\t\t<dd>23033369.8655142</dd>\n",
       "\t<dt>85</dt>\n",
       "\t\t<dd>5097123.28736805</dd>\n",
       "\t<dt>86</dt>\n",
       "\t\t<dd>2025044.53280267</dd>\n",
       "\t<dt>87</dt>\n",
       "\t\t<dd>1320974.29361382</dd>\n",
       "\t<dt>88</dt>\n",
       "\t\t<dd>737913.354036976</dd>\n",
       "\t<dt>89</dt>\n",
       "\t\t<dd>806908.777951172</dd>\n",
       "\t<dt>90</dt>\n",
       "\t\t<dd>1623055.84669413</dd>\n",
       "\t<dt>91</dt>\n",
       "\t\t<dd>1094020.84037393</dd>\n",
       "\t<dt>92</dt>\n",
       "\t\t<dd>705364.32138548</dd>\n",
       "\t<dt>93</dt>\n",
       "\t\t<dd>2672644.64435956</dd>\n",
       "\t<dt>94</dt>\n",
       "\t\t<dd>823163.352085157</dd>\n",
       "\t<dt>95</dt>\n",
       "\t\t<dd>963031.533688329</dd>\n",
       "\t<dt>96</dt>\n",
       "\t\t<dd>1543909.1032399</dd>\n",
       "\t<dt>97</dt>\n",
       "\t\t<dd>727413.762076177</dd>\n",
       "\t<dt>98</dt>\n",
       "\t\t<dd>764443.060484398</dd>\n",
       "\t<dt>99</dt>\n",
       "\t\t<dd>776419.158564594</dd>\n",
       "\t<dt>100</dt>\n",
       "\t\t<dd>687424.63604714</dd>\n",
       "\t<dt>101</dt>\n",
       "\t\t<dd>766232.322245014</dd>\n",
       "\t<dt>102</dt>\n",
       "\t\t<dd>692351.757285724</dd>\n",
       "\t<dt>103</dt>\n",
       "\t\t<dd>741224.797775379</dd>\n",
       "\t<dt>104</dt>\n",
       "\t\t<dd>769685.593123393</dd>\n",
       "\t<dt>105</dt>\n",
       "\t\t<dd>658318.699196637</dd>\n",
       "\t<dt>106</dt>\n",
       "\t\t<dd>700424.465301614</dd>\n",
       "\t<dt>107</dt>\n",
       "\t\t<dd>667944.258409415</dd>\n",
       "\t<dt>108</dt>\n",
       "\t\t<dd>1116305.4437415</dd>\n",
       "\t<dt>109</dt>\n",
       "\t\t<dd>974578.3586924</dd>\n",
       "\t<dt>110</dt>\n",
       "\t\t<dd>1184608.0664747</dd>\n",
       "\t<dt>111</dt>\n",
       "\t\t<dd>666562.847667348</dd>\n",
       "\t<dt>112</dt>\n",
       "\t\t<dd>994453.084573021</dd>\n",
       "\t<dt>113</dt>\n",
       "\t\t<dd>664796.159859863</dd>\n",
       "\t<dt>114</dt>\n",
       "\t\t<dd>663703.618924836</dd>\n",
       "\t<dt>115</dt>\n",
       "\t\t<dd>734769.223127663</dd>\n",
       "\t<dt>116</dt>\n",
       "\t\t<dd>678099.081631749</dd>\n",
       "\t<dt>117</dt>\n",
       "\t\t<dd>662215.06589778</dd>\n",
       "\t<dt>118</dt>\n",
       "\t\t<dd>2750153.64831405</dd>\n",
       "\t<dt>119</dt>\n",
       "\t\t<dd>722038.009516754</dd>\n",
       "\t<dt>120</dt>\n",
       "\t\t<dd>658340.23324406</dd>\n",
       "\t<dt>121</dt>\n",
       "\t\t<dd>711311.3021494</dd>\n",
       "\t<dt>122</dt>\n",
       "\t\t<dd>667756.195461821</dd>\n",
       "\t<dt>123</dt>\n",
       "\t\t<dd>1257815.65245563</dd>\n",
       "\t<dt>124</dt>\n",
       "\t\t<dd>1176910.46044684</dd>\n",
       "\t<dt>125</dt>\n",
       "\t\t<dd>1536187.29140688</dd>\n",
       "\t<dt>126</dt>\n",
       "\t\t<dd>699365.409330374</dd>\n",
       "\t<dt>127</dt>\n",
       "\t\t<dd>1135336.35813382</dd>\n",
       "\t<dt>128</dt>\n",
       "\t\t<dd>932671.582544223</dd>\n",
       "\t<dt>129</dt>\n",
       "\t\t<dd>662334.063107836</dd>\n",
       "\t<dt>130</dt>\n",
       "\t\t<dd>737732.650422082</dd>\n",
       "\t<dt>131</dt>\n",
       "\t\t<dd>765417.916090415</dd>\n",
       "\t<dt>132</dt>\n",
       "\t\t<dd>1064131.85452555</dd>\n",
       "\t<dt>133</dt>\n",
       "\t\t<dd>4067494.887815</dd>\n",
       "\t<dt>134</dt>\n",
       "\t\t<dd>691035.396645309</dd>\n",
       "\t<dt>135</dt>\n",
       "\t\t<dd>745368.294068313</dd>\n",
       "\t<dt>136</dt>\n",
       "\t\t<dd>742247.984998979</dd>\n",
       "\t<dt>137</dt>\n",
       "\t\t<dd>4285631.70049429</dd>\n",
       "\t<dt>138</dt>\n",
       "\t\t<dd>741918.302892549</dd>\n",
       "\t<dt>139</dt>\n",
       "\t\t<dd>728225.0965093</dd>\n",
       "\t<dt>140</dt>\n",
       "\t\t<dd>804559.007014123</dd>\n",
       "\t<dt>141</dt>\n",
       "\t\t<dd>773737.769696644</dd>\n",
       "\t<dt>142</dt>\n",
       "\t\t<dd>1195277.80300782</dd>\n",
       "\t<dt>143</dt>\n",
       "\t\t<dd>2442822.87520112</dd>\n",
       "\t<dt>144</dt>\n",
       "\t\t<dd>1262287.11901022</dd>\n",
       "\t<dt>145</dt>\n",
       "\t\t<dd>820186.038049903</dd>\n",
       "\t<dt>146</dt>\n",
       "\t\t<dd>702627.113578852</dd>\n",
       "\t<dt>147</dt>\n",
       "\t\t<dd>672170.179228593</dd>\n",
       "\t<dt>148</dt>\n",
       "\t\t<dd>962662.991105531</dd>\n",
       "\t<dt>149</dt>\n",
       "\t\t<dd>2993819.69815723</dd>\n",
       "\t<dt>150</dt>\n",
       "\t\t<dd>871952.096218294</dd>\n",
       "\t<dt>151</dt>\n",
       "\t\t<dd>1478907.47719238</dd>\n",
       "\t<dt>152</dt>\n",
       "\t\t<dd>660662.48667623</dd>\n",
       "\t<dt>153</dt>\n",
       "\t\t<dd>658339.353323846</dd>\n",
       "\t<dt>154</dt>\n",
       "\t\t<dd>658250.721360454</dd>\n",
       "\t<dt>155</dt>\n",
       "\t\t<dd>661301.70871546</dd>\n",
       "\t<dt>156</dt>\n",
       "\t\t<dd>1226561.89435651</dd>\n",
       "\t<dt>157</dt>\n",
       "\t\t<dd>935242.75740571</dd>\n",
       "\t<dt>158</dt>\n",
       "\t\t<dd>796718.741921722</dd>\n",
       "\t<dt>159</dt>\n",
       "\t\t<dd>659293.074846174</dd>\n",
       "\t<dt>160</dt>\n",
       "\t\t<dd>788879.980692959</dd>\n",
       "\t<dt>161</dt>\n",
       "\t\t<dd>752312.704391381</dd>\n",
       "\t<dt>162</dt>\n",
       "\t\t<dd>658402.931558958</dd>\n",
       "\t<dt>163</dt>\n",
       "\t\t<dd>745110.717423798</dd>\n",
       "\t<dt>164</dt>\n",
       "\t\t<dd>690972.570342016</dd>\n",
       "\t<dt>165</dt>\n",
       "\t\t<dd>921678.163360675</dd>\n",
       "\t<dt>166</dt>\n",
       "\t\t<dd>1622955.8557607</dd>\n",
       "\t<dt>167</dt>\n",
       "\t\t<dd>839667.615578828</dd>\n",
       "\t<dt>168</dt>\n",
       "\t\t<dd>1406112.47780061</dd>\n",
       "\t<dt>169</dt>\n",
       "\t\t<dd>1002257.62490473</dd>\n",
       "\t<dt>170</dt>\n",
       "\t\t<dd>659488.913088752</dd>\n",
       "\t<dt>171</dt>\n",
       "\t\t<dd>1381649.15998562</dd>\n",
       "\t<dt>172</dt>\n",
       "\t\t<dd>667206.869271382</dd>\n",
       "\t<dt>173</dt>\n",
       "\t\t<dd>820661.674922041</dd>\n",
       "\t<dt>174</dt>\n",
       "\t\t<dd>797556.313975777</dd>\n",
       "\t<dt>175</dt>\n",
       "\t\t<dd>946999.37138739</dd>\n",
       "\t<dt>176</dt>\n",
       "\t\t<dd>1039686.37509309</dd>\n",
       "\t<dt>177</dt>\n",
       "\t\t<dd>814986.157543471</dd>\n",
       "\t<dt>178</dt>\n",
       "\t\t<dd>1650597.76536029</dd>\n",
       "\t<dt>179</dt>\n",
       "\t\t<dd>1778249.02271992</dd>\n",
       "\t<dt>180</dt>\n",
       "\t\t<dd>679349.688234342</dd>\n",
       "\t<dt>181</dt>\n",
       "\t\t<dd>794402.487945558</dd>\n",
       "\t<dt>182</dt>\n",
       "\t\t<dd>680195.54753696</dd>\n",
       "\t<dt>183</dt>\n",
       "\t\t<dd>849499.396092712</dd>\n",
       "\t<dt>184</dt>\n",
       "\t\t<dd>2026912.93938691</dd>\n",
       "\t<dt>185</dt>\n",
       "\t\t<dd>818558.809597091</dd>\n",
       "\t<dt>186</dt>\n",
       "\t\t<dd>1421092.46350652</dd>\n",
       "\t<dt>187</dt>\n",
       "\t\t<dd>1751609.40623847</dd>\n",
       "\t<dt>188</dt>\n",
       "\t\t<dd>1351612.82749774</dd>\n",
       "\t<dt>189</dt>\n",
       "\t\t<dd>713545.163596417</dd>\n",
       "\t<dt>190</dt>\n",
       "\t\t<dd>5995859.4434344</dd>\n",
       "\t<dt>191</dt>\n",
       "\t\t<dd>1203798.63039097</dd>\n",
       "\t<dt>192</dt>\n",
       "\t\t<dd>1110870.99250452</dd>\n",
       "\t<dt>193</dt>\n",
       "\t\t<dd>2234194.32037079</dd>\n",
       "\t<dt>194</dt>\n",
       "\t\t<dd>1149265.01516784</dd>\n",
       "\t<dt>195</dt>\n",
       "\t\t<dd>963089.704413761</dd>\n",
       "\t<dt>196</dt>\n",
       "\t\t<dd>900234.651728013</dd>\n",
       "</dl>\n"
      ],
      "text/latex": [
       "\\begin{description*}\n",
       "\\item[1] 1299702.75038811\n",
       "\\item[2] 703677.898300078\n",
       "\\item[3] 1376610.41686823\n",
       "\\item[4] 658945.154393486\n",
       "\\item[5] 1205882.40944655\n",
       "\\item[6] 657949.276693625\n",
       "\\item[7] 659290.819050716\n",
       "\\item[8] 1389870.46252786\n",
       "\\item[9] 705235.469069025\n",
       "\\item[10] 659424.35894213\n",
       "\\item[11] 1072155.78296448\n",
       "\\item[12] 802923.235335959\n",
       "\\item[13] 821923.144539641\n",
       "\\item[14] 664080.064791013\n",
       "\\item[15] 686222.201076636\n",
       "\\item[16] 3328485.75267294\n",
       "\\item[17] 662311.6171431\n",
       "\\item[18] 808813.533239536\n",
       "\\item[19] 844230.385854544\n",
       "\\item[20] 664225.939563975\n",
       "\\item[21] 858610.409961336\n",
       "\\item[22] 658697.608839413\n",
       "\\item[23] 670237.250494826\n",
       "\\item[24] 847948.736697084\n",
       "\\item[25] 709746.484037598\n",
       "\\item[26] 696369.073019944\n",
       "\\item[27] 4091499.63921\n",
       "\\item[28] 664797.21576412\n",
       "\\item[29] 767722.523122653\n",
       "\\item[30] 1004672.52593617\n",
       "\\item[31] 855689.554806733\n",
       "\\item[32] 666733.728172942\n",
       "\\item[33] 930258.329363358\n",
       "\\item[34] 1096867.84622474\n",
       "\\item[35] 1268785.2178021\n",
       "\\item[36] 736815.789557454\n",
       "\\item[37] 930809.799359409\n",
       "\\item[38] 967137.481385941\n",
       "\\item[39] 23684798.7658998\n",
       "\\item[40] 1483653.51085089\n",
       "\\item[41] 672024.384448378\n",
       "\\item[42] 748961.280278155\n",
       "\\item[43] 740225.19241352\n",
       "\\item[44] 722828.625828471\n",
       "\\item[45] 838763.953517413\n",
       "\\item[46] 660346.291346901\n",
       "\\item[47] 677215.129783132\n",
       "\\item[48] 829470.556186214\n",
       "\\item[49] 750820.807667511\n",
       "\\item[50] 673827.836922266\n",
       "\\item[51] 658861.897942675\n",
       "\\item[52] 833643.153840412\n",
       "\\item[53] 2150124.55130661\n",
       "\\item[54] 945842.228310094\n",
       "\\item[55] 2337197.4286748\n",
       "\\item[56] 762194.368382134\n",
       "\\item[57] 681160.052081548\n",
       "\\item[58] 715520.008529479\n",
       "\\item[59] 678948.524609421\n",
       "\\item[60] 676530.711841992\n",
       "\\item[61] 2559300.1697478\n",
       "\\item[62] 672190.64137321\n",
       "\\item[63] 746538.731940118\n",
       "\\item[64] 1705158.09816084\n",
       "\\item[65] 662654.242075953\n",
       "\\item[66] 662236.055994526\n",
       "\\item[67] 694464.765690961\n",
       "\\item[68] 697855.194267499\n",
       "\\item[69] 721359.063079492\n",
       "\\item[70] 2004007.73629155\n",
       "\\item[71] 1169035.6544864\n",
       "\\item[72] 823342.007885735\n",
       "\\item[73] 659517.95045582\n",
       "\\item[74] 664109.214147926\n",
       "\\item[75] 951590.891056286\n",
       "\\item[76] 875608.196705317\n",
       "\\item[77] 690209.93549311\n",
       "\\item[78] 670373.286159938\n",
       "\\item[79] 843178.32124937\n",
       "\\item[80] 819618.457514657\n",
       "\\item[81] 778981.470229742\n",
       "\\item[82] 811719.317760652\n",
       "\\item[83] 663214.287294455\n",
       "\\item[84] 23033369.8655142\n",
       "\\item[85] 5097123.28736805\n",
       "\\item[86] 2025044.53280267\n",
       "\\item[87] 1320974.29361382\n",
       "\\item[88] 737913.354036976\n",
       "\\item[89] 806908.777951172\n",
       "\\item[90] 1623055.84669413\n",
       "\\item[91] 1094020.84037393\n",
       "\\item[92] 705364.32138548\n",
       "\\item[93] 2672644.64435956\n",
       "\\item[94] 823163.352085157\n",
       "\\item[95] 963031.533688329\n",
       "\\item[96] 1543909.1032399\n",
       "\\item[97] 727413.762076177\n",
       "\\item[98] 764443.060484398\n",
       "\\item[99] 776419.158564594\n",
       "\\item[100] 687424.63604714\n",
       "\\item[101] 766232.322245014\n",
       "\\item[102] 692351.757285724\n",
       "\\item[103] 741224.797775379\n",
       "\\item[104] 769685.593123393\n",
       "\\item[105] 658318.699196637\n",
       "\\item[106] 700424.465301614\n",
       "\\item[107] 667944.258409415\n",
       "\\item[108] 1116305.4437415\n",
       "\\item[109] 974578.3586924\n",
       "\\item[110] 1184608.0664747\n",
       "\\item[111] 666562.847667348\n",
       "\\item[112] 994453.084573021\n",
       "\\item[113] 664796.159859863\n",
       "\\item[114] 663703.618924836\n",
       "\\item[115] 734769.223127663\n",
       "\\item[116] 678099.081631749\n",
       "\\item[117] 662215.06589778\n",
       "\\item[118] 2750153.64831405\n",
       "\\item[119] 722038.009516754\n",
       "\\item[120] 658340.23324406\n",
       "\\item[121] 711311.3021494\n",
       "\\item[122] 667756.195461821\n",
       "\\item[123] 1257815.65245563\n",
       "\\item[124] 1176910.46044684\n",
       "\\item[125] 1536187.29140688\n",
       "\\item[126] 699365.409330374\n",
       "\\item[127] 1135336.35813382\n",
       "\\item[128] 932671.582544223\n",
       "\\item[129] 662334.063107836\n",
       "\\item[130] 737732.650422082\n",
       "\\item[131] 765417.916090415\n",
       "\\item[132] 1064131.85452555\n",
       "\\item[133] 4067494.887815\n",
       "\\item[134] 691035.396645309\n",
       "\\item[135] 745368.294068313\n",
       "\\item[136] 742247.984998979\n",
       "\\item[137] 4285631.70049429\n",
       "\\item[138] 741918.302892549\n",
       "\\item[139] 728225.0965093\n",
       "\\item[140] 804559.007014123\n",
       "\\item[141] 773737.769696644\n",
       "\\item[142] 1195277.80300782\n",
       "\\item[143] 2442822.87520112\n",
       "\\item[144] 1262287.11901022\n",
       "\\item[145] 820186.038049903\n",
       "\\item[146] 702627.113578852\n",
       "\\item[147] 672170.179228593\n",
       "\\item[148] 962662.991105531\n",
       "\\item[149] 2993819.69815723\n",
       "\\item[150] 871952.096218294\n",
       "\\item[151] 1478907.47719238\n",
       "\\item[152] 660662.48667623\n",
       "\\item[153] 658339.353323846\n",
       "\\item[154] 658250.721360454\n",
       "\\item[155] 661301.70871546\n",
       "\\item[156] 1226561.89435651\n",
       "\\item[157] 935242.75740571\n",
       "\\item[158] 796718.741921722\n",
       "\\item[159] 659293.074846174\n",
       "\\item[160] 788879.980692959\n",
       "\\item[161] 752312.704391381\n",
       "\\item[162] 658402.931558958\n",
       "\\item[163] 745110.717423798\n",
       "\\item[164] 690972.570342016\n",
       "\\item[165] 921678.163360675\n",
       "\\item[166] 1622955.8557607\n",
       "\\item[167] 839667.615578828\n",
       "\\item[168] 1406112.47780061\n",
       "\\item[169] 1002257.62490473\n",
       "\\item[170] 659488.913088752\n",
       "\\item[171] 1381649.15998562\n",
       "\\item[172] 667206.869271382\n",
       "\\item[173] 820661.674922041\n",
       "\\item[174] 797556.313975777\n",
       "\\item[175] 946999.37138739\n",
       "\\item[176] 1039686.37509309\n",
       "\\item[177] 814986.157543471\n",
       "\\item[178] 1650597.76536029\n",
       "\\item[179] 1778249.02271992\n",
       "\\item[180] 679349.688234342\n",
       "\\item[181] 794402.487945558\n",
       "\\item[182] 680195.54753696\n",
       "\\item[183] 849499.396092712\n",
       "\\item[184] 2026912.93938691\n",
       "\\item[185] 818558.809597091\n",
       "\\item[186] 1421092.46350652\n",
       "\\item[187] 1751609.40623847\n",
       "\\item[188] 1351612.82749774\n",
       "\\item[189] 713545.163596417\n",
       "\\item[190] 5995859.4434344\n",
       "\\item[191] 1203798.63039097\n",
       "\\item[192] 1110870.99250452\n",
       "\\item[193] 2234194.32037079\n",
       "\\item[194] 1149265.01516784\n",
       "\\item[195] 963089.704413761\n",
       "\\item[196] 900234.651728013\n",
       "\\end{description*}\n"
      ],
      "text/markdown": [
       "1\n",
       ":   1299702.750388112\n",
       ":   703677.8983000783\n",
       ":   1376610.416868234\n",
       ":   658945.1543934865\n",
       ":   1205882.409446556\n",
       ":   657949.2766936257\n",
       ":   659290.8190507168\n",
       ":   1389870.462527869\n",
       ":   705235.46906902510\n",
       ":   659424.3589421311\n",
       ":   1072155.7829644812\n",
       ":   802923.23533595913\n",
       ":   821923.14453964114\n",
       ":   664080.06479101315\n",
       ":   686222.20107663616\n",
       ":   3328485.7526729417\n",
       ":   662311.617143118\n",
       ":   808813.53323953619\n",
       ":   844230.38585454420\n",
       ":   664225.93956397521\n",
       ":   858610.40996133622\n",
       ":   658697.60883941323\n",
       ":   670237.25049482624\n",
       ":   847948.73669708425\n",
       ":   709746.48403759826\n",
       ":   696369.07301994427\n",
       ":   4091499.6392128\n",
       ":   664797.2157641229\n",
       ":   767722.52312265330\n",
       ":   1004672.5259361731\n",
       ":   855689.55480673332\n",
       ":   666733.72817294233\n",
       ":   930258.32936335834\n",
       ":   1096867.8462247435\n",
       ":   1268785.217802136\n",
       ":   736815.78955745437\n",
       ":   930809.79935940938\n",
       ":   967137.48138594139\n",
       ":   23684798.765899840\n",
       ":   1483653.5108508941\n",
       ":   672024.38444837842\n",
       ":   748961.28027815543\n",
       ":   740225.1924135244\n",
       ":   722828.62582847145\n",
       ":   838763.95351741346\n",
       ":   660346.29134690147\n",
       ":   677215.12978313248\n",
       ":   829470.55618621449\n",
       ":   750820.80766751150\n",
       ":   673827.83692226651\n",
       ":   658861.89794267552\n",
       ":   833643.15384041253\n",
       ":   2150124.5513066154\n",
       ":   945842.22831009455\n",
       ":   2337197.428674856\n",
       ":   762194.36838213457\n",
       ":   681160.05208154858\n",
       ":   715520.00852947959\n",
       ":   678948.52460942160\n",
       ":   676530.71184199261\n",
       ":   2559300.169747862\n",
       ":   672190.6413732163\n",
       ":   746538.73194011864\n",
       ":   1705158.0981608465\n",
       ":   662654.24207595366\n",
       ":   662236.05599452667\n",
       ":   694464.76569096168\n",
       ":   697855.19426749969\n",
       ":   721359.06307949270\n",
       ":   2004007.7362915571\n",
       ":   1169035.654486472\n",
       ":   823342.00788573573\n",
       ":   659517.9504558274\n",
       ":   664109.21414792675\n",
       ":   951590.89105628676\n",
       ":   875608.19670531777\n",
       ":   690209.9354931178\n",
       ":   670373.28615993879\n",
       ":   843178.3212493780\n",
       ":   819618.45751465781\n",
       ":   778981.47022974282\n",
       ":   811719.31776065283\n",
       ":   663214.28729445584\n",
       ":   23033369.865514285\n",
       ":   5097123.2873680586\n",
       ":   2025044.5328026787\n",
       ":   1320974.2936138288\n",
       ":   737913.35403697689\n",
       ":   806908.77795117290\n",
       ":   1623055.8466941391\n",
       ":   1094020.8403739392\n",
       ":   705364.3213854893\n",
       ":   2672644.6443595694\n",
       ":   823163.35208515795\n",
       ":   963031.53368832996\n",
       ":   1543909.103239997\n",
       ":   727413.76207617798\n",
       ":   764443.06048439899\n",
       ":   776419.158564594100\n",
       ":   687424.63604714101\n",
       ":   766232.322245014102\n",
       ":   692351.757285724103\n",
       ":   741224.797775379104\n",
       ":   769685.593123393105\n",
       ":   658318.699196637106\n",
       ":   700424.465301614107\n",
       ":   667944.258409415108\n",
       ":   1116305.4437415109\n",
       ":   974578.3586924110\n",
       ":   1184608.0664747111\n",
       ":   666562.847667348112\n",
       ":   994453.084573021113\n",
       ":   664796.159859863114\n",
       ":   663703.618924836115\n",
       ":   734769.223127663116\n",
       ":   678099.081631749117\n",
       ":   662215.06589778118\n",
       ":   2750153.64831405119\n",
       ":   722038.009516754120\n",
       ":   658340.23324406121\n",
       ":   711311.3021494122\n",
       ":   667756.195461821123\n",
       ":   1257815.65245563124\n",
       ":   1176910.46044684125\n",
       ":   1536187.29140688126\n",
       ":   699365.409330374127\n",
       ":   1135336.35813382128\n",
       ":   932671.582544223129\n",
       ":   662334.063107836130\n",
       ":   737732.650422082131\n",
       ":   765417.916090415132\n",
       ":   1064131.85452555133\n",
       ":   4067494.887815134\n",
       ":   691035.396645309135\n",
       ":   745368.294068313136\n",
       ":   742247.984998979137\n",
       ":   4285631.70049429138\n",
       ":   741918.302892549139\n",
       ":   728225.0965093140\n",
       ":   804559.007014123141\n",
       ":   773737.769696644142\n",
       ":   1195277.80300782143\n",
       ":   2442822.87520112144\n",
       ":   1262287.11901022145\n",
       ":   820186.038049903146\n",
       ":   702627.113578852147\n",
       ":   672170.179228593148\n",
       ":   962662.991105531149\n",
       ":   2993819.69815723150\n",
       ":   871952.096218294151\n",
       ":   1478907.47719238152\n",
       ":   660662.48667623153\n",
       ":   658339.353323846154\n",
       ":   658250.721360454155\n",
       ":   661301.70871546156\n",
       ":   1226561.89435651157\n",
       ":   935242.75740571158\n",
       ":   796718.741921722159\n",
       ":   659293.074846174160\n",
       ":   788879.980692959161\n",
       ":   752312.704391381162\n",
       ":   658402.931558958163\n",
       ":   745110.717423798164\n",
       ":   690972.570342016165\n",
       ":   921678.163360675166\n",
       ":   1622955.8557607167\n",
       ":   839667.615578828168\n",
       ":   1406112.47780061169\n",
       ":   1002257.62490473170\n",
       ":   659488.913088752171\n",
       ":   1381649.15998562172\n",
       ":   667206.869271382173\n",
       ":   820661.674922041174\n",
       ":   797556.313975777175\n",
       ":   946999.37138739176\n",
       ":   1039686.37509309177\n",
       ":   814986.157543471178\n",
       ":   1650597.76536029179\n",
       ":   1778249.02271992180\n",
       ":   679349.688234342181\n",
       ":   794402.487945558182\n",
       ":   680195.54753696183\n",
       ":   849499.396092712184\n",
       ":   2026912.93938691185\n",
       ":   818558.809597091186\n",
       ":   1421092.46350652187\n",
       ":   1751609.40623847188\n",
       ":   1351612.82749774189\n",
       ":   713545.163596417190\n",
       ":   5995859.4434344191\n",
       ":   1203798.63039097192\n",
       ":   1110870.99250452193\n",
       ":   2234194.32037079194\n",
       ":   1149265.01516784195\n",
       ":   963089.704413761196\n",
       ":   900234.651728013\n",
       "\n"
      ],
      "text/plain": [
       "         1          2          3          4          5          6          7 \n",
       " 1299702.8   703677.9  1376610.4   658945.2  1205882.4   657949.3   659290.8 \n",
       "         8          9         10         11         12         13         14 \n",
       " 1389870.5   705235.5   659424.4  1072155.8   802923.2   821923.1   664080.1 \n",
       "        15         16         17         18         19         20         21 \n",
       "  686222.2  3328485.8   662311.6   808813.5   844230.4   664225.9   858610.4 \n",
       "        22         23         24         25         26         27         28 \n",
       "  658697.6   670237.3   847948.7   709746.5   696369.1  4091499.6   664797.2 \n",
       "        29         30         31         32         33         34         35 \n",
       "  767722.5  1004672.5   855689.6   666733.7   930258.3  1096867.8  1268785.2 \n",
       "        36         37         38         39         40         41         42 \n",
       "  736815.8   930809.8   967137.5 23684798.8  1483653.5   672024.4   748961.3 \n",
       "        43         44         45         46         47         48         49 \n",
       "  740225.2   722828.6   838764.0   660346.3   677215.1   829470.6   750820.8 \n",
       "        50         51         52         53         54         55         56 \n",
       "  673827.8   658861.9   833643.2  2150124.6   945842.2  2337197.4   762194.4 \n",
       "        57         58         59         60         61         62         63 \n",
       "  681160.1   715520.0   678948.5   676530.7  2559300.2   672190.6   746538.7 \n",
       "        64         65         66         67         68         69         70 \n",
       " 1705158.1   662654.2   662236.1   694464.8   697855.2   721359.1  2004007.7 \n",
       "        71         72         73         74         75         76         77 \n",
       " 1169035.7   823342.0   659518.0   664109.2   951590.9   875608.2   690209.9 \n",
       "        78         79         80         81         82         83         84 \n",
       "  670373.3   843178.3   819618.5   778981.5   811719.3   663214.3 23033369.9 \n",
       "        85         86         87         88         89         90         91 \n",
       " 5097123.3  2025044.5  1320974.3   737913.4   806908.8  1623055.8  1094020.8 \n",
       "        92         93         94         95         96         97         98 \n",
       "  705364.3  2672644.6   823163.4   963031.5  1543909.1   727413.8   764443.1 \n",
       "        99        100        101        102        103        104        105 \n",
       "  776419.2   687424.6   766232.3   692351.8   741224.8   769685.6   658318.7 \n",
       "       106        107        108        109        110        111        112 \n",
       "  700424.5   667944.3  1116305.4   974578.4  1184608.1   666562.8   994453.1 \n",
       "       113        114        115        116        117        118        119 \n",
       "  664796.2   663703.6   734769.2   678099.1   662215.1  2750153.6   722038.0 \n",
       "       120        121        122        123        124        125        126 \n",
       "  658340.2   711311.3   667756.2  1257815.7  1176910.5  1536187.3   699365.4 \n",
       "       127        128        129        130        131        132        133 \n",
       " 1135336.4   932671.6   662334.1   737732.7   765417.9  1064131.9  4067494.9 \n",
       "       134        135        136        137        138        139        140 \n",
       "  691035.4   745368.3   742248.0  4285631.7   741918.3   728225.1   804559.0 \n",
       "       141        142        143        144        145        146        147 \n",
       "  773737.8  1195277.8  2442822.9  1262287.1   820186.0   702627.1   672170.2 \n",
       "       148        149        150        151        152        153        154 \n",
       "  962663.0  2993819.7   871952.1  1478907.5   660662.5   658339.4   658250.7 \n",
       "       155        156        157        158        159        160        161 \n",
       "  661301.7  1226561.9   935242.8   796718.7   659293.1   788880.0   752312.7 \n",
       "       162        163        164        165        166        167        168 \n",
       "  658402.9   745110.7   690972.6   921678.2  1622955.9   839667.6  1406112.5 \n",
       "       169        170        171        172        173        174        175 \n",
       " 1002257.6   659488.9  1381649.2   667206.9   820661.7   797556.3   946999.4 \n",
       "       176        177        178        179        180        181        182 \n",
       " 1039686.4   814986.2  1650597.8  1778249.0   679349.7   794402.5   680195.5 \n",
       "       183        184        185        186        187        188        189 \n",
       "  849499.4  2026912.9   818558.8  1421092.5  1751609.4  1351612.8   713545.2 \n",
       "       190        191        192        193        194        195        196 \n",
       " 5995859.4  1203798.6  1110871.0  2234194.3  1149265.0   963089.7   900234.7 "
      ]
     },
     "metadata": {},
     "output_type": "display_data"
    }
   ],
   "source": [
    "result=predict(model,test)\n",
    "result\n",
    "r_result = round(result)"
   ]
  },
  {
   "cell_type": "code",
   "execution_count": 166,
   "id": "8c009a30",
   "metadata": {},
   "outputs": [
    {
     "data": {
      "text/html": [
       "<table>\n",
       "<thead><tr><th scope=col>Country</th><th scope=col>Total.Cases</th><th scope=col>r_result</th></tr></thead>\n",
       "<tbody>\n",
       "\t<tr><td>Afghanistan           </td><td>  156610              </td><td>1299703               </td></tr>\n",
       "\t<tr><td>Albania               </td><td>  193269              </td><td> 703678               </td></tr>\n",
       "\t<tr><td>Algeria               </td><td>  208104              </td><td>1376610               </td></tr>\n",
       "\t<tr><td>Andorra               </td><td>   15907              </td><td> 658945               </td></tr>\n",
       "\t<tr><td>Angola                </td><td>   64913              </td><td>1205882               </td></tr>\n",
       "\t<tr><td>Anguilla              </td><td>    1137              </td><td> 657949               </td></tr>\n",
       "\t<tr><td>Antigua and Barbuda   </td><td>    4122              </td><td> 659291               </td></tr>\n",
       "\t<tr><td>Argentina             </td><td> 5307159              </td><td>1389870               </td></tr>\n",
       "\t<tr><td>Armenia               </td><td>  329913              </td><td> 705235               </td></tr>\n",
       "\t<tr><td>Aruba                 </td><td>   16089              </td><td> 659424               </td></tr>\n",
       "\t<tr><td>Australia             </td><td>  191623              </td><td>1072156               </td></tr>\n",
       "\t<tr><td>Austria               </td><td>  981904              </td><td> 802923               </td></tr>\n",
       "\t<tr><td>Azerbaijan            </td><td>  561925              </td><td> 821923               </td></tr>\n",
       "\t<tr><td>Bahamas               </td><td>   22601              </td><td> 664080               </td></tr>\n",
       "\t<tr><td>Bahrain               </td><td>  277246              </td><td> 686222               </td></tr>\n",
       "\t<tr><td>Bangladesh            </td><td> 1572735              </td><td>3328486               </td></tr>\n",
       "\t<tr><td>Barbados              </td><td>   22316              </td><td> 662312               </td></tr>\n",
       "\t<tr><td>Belarus               </td><td>  629271              </td><td> 808814               </td></tr>\n",
       "\t<tr><td>Belgium               </td><td> 1512474              </td><td> 844230               </td></tr>\n",
       "\t<tr><td>Belize                </td><td>   29105              </td><td> 664226               </td></tr>\n",
       "\t<tr><td>Benin                 </td><td>   24833              </td><td> 858610               </td></tr>\n",
       "\t<tr><td>Bermuda               </td><td>    5713              </td><td> 658698               </td></tr>\n",
       "\t<tr><td>Bhutan                </td><td>    2625              </td><td> 670237               </td></tr>\n",
       "\t<tr><td>Bolivia               </td><td>  524261              </td><td> 847949               </td></tr>\n",
       "\t<tr><td>Bosnia and Herzegovina</td><td>  265149              </td><td> 709746               </td></tr>\n",
       "\t<tr><td>Botswana              </td><td>  194129              </td><td> 696369               </td></tr>\n",
       "\t<tr><td>Brazil                </td><td>21960766              </td><td>4091500               </td></tr>\n",
       "\t<tr><td>Brunei                </td><td>   14215              </td><td> 664797               </td></tr>\n",
       "\t<tr><td>Bulgaria              </td><td>  658870              </td><td> 767723               </td></tr>\n",
       "\t<tr><td>Burkina Faso          </td><td>   15281              </td><td>1004673               </td></tr>\n",
       "\t<tr><td>...</td><td>...</td><td>...</td></tr>\n",
       "\t<tr><td>South Sudan           </td><td>   12590              </td><td> 839668               </td></tr>\n",
       "\t<tr><td>Spain                 </td><td> 5056954              </td><td>1406112               </td></tr>\n",
       "\t<tr><td>Sri Lanka             </td><td>  552274              </td><td>1002258               </td></tr>\n",
       "\t<tr><td>St. Vincent Grenadines</td><td>    5326              </td><td> 659489               </td></tr>\n",
       "\t<tr><td>Sudan                 </td><td>   40238              </td><td>1381649               </td></tr>\n",
       "\t<tr><td>Suriname              </td><td>   50170              </td><td> 667207               </td></tr>\n",
       "\t<tr><td>Sweden                </td><td> 1182471              </td><td> 820662               </td></tr>\n",
       "\t<tr><td>Switzerland           </td><td>  918745              </td><td> 797556               </td></tr>\n",
       "\t<tr><td>Syria                 </td><td>   46421              </td><td> 946999               </td></tr>\n",
       "\t<tr><td>Taiwan                </td><td>   16498              </td><td>1039686               </td></tr>\n",
       "\t<tr><td>Tajikistan            </td><td>   17091              </td><td> 814986               </td></tr>\n",
       "\t<tr><td>Tanzania              </td><td>   26208              </td><td>1650598               </td></tr>\n",
       "\t<tr><td>Thailand              </td><td> 2030700              </td><td>1778249               </td></tr>\n",
       "\t<tr><td>Timor-Leste           </td><td>   19810              </td><td> 679350               </td></tr>\n",
       "\t<tr><td>Togo                  </td><td>   26167              </td><td> 794402               </td></tr>\n",
       "\t<tr><td>Trinidad and Tobago   </td><td>   62670              </td><td> 680196               </td></tr>\n",
       "\t<tr><td>Tunisia               </td><td>  715716              </td><td> 849499               </td></tr>\n",
       "\t<tr><td>Turkey                </td><td> 8432018              </td><td>2026913               </td></tr>\n",
       "\t<tr><td>UAE                   </td><td>  741006              </td><td> 818559               </td></tr>\n",
       "\t<tr><td>Uganda                </td><td>  126965              </td><td>1421092               </td></tr>\n",
       "\t<tr><td>UK                    </td><td> 9600369              </td><td>1751609               </td></tr>\n",
       "\t<tr><td>Ukraine               </td><td> 3244749              </td><td>1351613               </td></tr>\n",
       "\t<tr><td>Uruguay               </td><td>  396677              </td><td> 713545               </td></tr>\n",
       "\t<tr><td>USA                   </td><td>48072898              </td><td>5995859               </td></tr>\n",
       "\t<tr><td>Uzbekistan            </td><td>  190104              </td><td>1203799               </td></tr>\n",
       "\t<tr><td>Venezuela             </td><td>  420500              </td><td>1110871               </td></tr>\n",
       "\t<tr><td>Vietnam               </td><td> 1035138              </td><td>2234194               </td></tr>\n",
       "\t<tr><td>Yemen                 </td><td>    9936              </td><td>1149265               </td></tr>\n",
       "\t<tr><td>Zambia                </td><td>  209996              </td><td> 963090               </td></tr>\n",
       "\t<tr><td>Zimbabwe              </td><td>  133438              </td><td> 900235               </td></tr>\n",
       "</tbody>\n",
       "</table>\n"
      ],
      "text/latex": [
       "\\begin{tabular}{r|lll}\n",
       " Country & Total.Cases & r\\_result\\\\\n",
       "\\hline\n",
       "\t Afghanistan            &   156610               & 1299703               \\\\\n",
       "\t Albania                &   193269               &  703678               \\\\\n",
       "\t Algeria                &   208104               & 1376610               \\\\\n",
       "\t Andorra                &    15907               &  658945               \\\\\n",
       "\t Angola                 &    64913               & 1205882               \\\\\n",
       "\t Anguilla               &     1137               &  657949               \\\\\n",
       "\t Antigua and Barbuda    &     4122               &  659291               \\\\\n",
       "\t Argentina              &  5307159               & 1389870               \\\\\n",
       "\t Armenia                &   329913               &  705235               \\\\\n",
       "\t Aruba                  &    16089               &  659424               \\\\\n",
       "\t Australia              &   191623               & 1072156               \\\\\n",
       "\t Austria                &   981904               &  802923               \\\\\n",
       "\t Azerbaijan             &   561925               &  821923               \\\\\n",
       "\t Bahamas                &    22601               &  664080               \\\\\n",
       "\t Bahrain                &   277246               &  686222               \\\\\n",
       "\t Bangladesh             &  1572735               & 3328486               \\\\\n",
       "\t Barbados               &    22316               &  662312               \\\\\n",
       "\t Belarus                &   629271               &  808814               \\\\\n",
       "\t Belgium                &  1512474               &  844230               \\\\\n",
       "\t Belize                 &    29105               &  664226               \\\\\n",
       "\t Benin                  &    24833               &  858610               \\\\\n",
       "\t Bermuda                &     5713               &  658698               \\\\\n",
       "\t Bhutan                 &     2625               &  670237               \\\\\n",
       "\t Bolivia                &   524261               &  847949               \\\\\n",
       "\t Bosnia and Herzegovina &   265149               &  709746               \\\\\n",
       "\t Botswana               &   194129               &  696369               \\\\\n",
       "\t Brazil                 & 21960766               & 4091500               \\\\\n",
       "\t Brunei                 &    14215               &  664797               \\\\\n",
       "\t Bulgaria               &   658870               &  767723               \\\\\n",
       "\t Burkina Faso           &    15281               & 1004673               \\\\\n",
       "\t ... & ... & ...\\\\\n",
       "\t South Sudan            &    12590               &  839668               \\\\\n",
       "\t Spain                  &  5056954               & 1406112               \\\\\n",
       "\t Sri Lanka              &   552274               & 1002258               \\\\\n",
       "\t St. Vincent Grenadines &     5326               &  659489               \\\\\n",
       "\t Sudan                  &    40238               & 1381649               \\\\\n",
       "\t Suriname               &    50170               &  667207               \\\\\n",
       "\t Sweden                 &  1182471               &  820662               \\\\\n",
       "\t Switzerland            &   918745               &  797556               \\\\\n",
       "\t Syria                  &    46421               &  946999               \\\\\n",
       "\t Taiwan                 &    16498               & 1039686               \\\\\n",
       "\t Tajikistan             &    17091               &  814986               \\\\\n",
       "\t Tanzania               &    26208               & 1650598               \\\\\n",
       "\t Thailand               &  2030700               & 1778249               \\\\\n",
       "\t Timor-Leste            &    19810               &  679350               \\\\\n",
       "\t Togo                   &    26167               &  794402               \\\\\n",
       "\t Trinidad and Tobago    &    62670               &  680196               \\\\\n",
       "\t Tunisia                &   715716               &  849499               \\\\\n",
       "\t Turkey                 &  8432018               & 2026913               \\\\\n",
       "\t UAE                    &   741006               &  818559               \\\\\n",
       "\t Uganda                 &   126965               & 1421092               \\\\\n",
       "\t UK                     &  9600369               & 1751609               \\\\\n",
       "\t Ukraine                &  3244749               & 1351613               \\\\\n",
       "\t Uruguay                &   396677               &  713545               \\\\\n",
       "\t USA                    & 48072898               & 5995859               \\\\\n",
       "\t Uzbekistan             &   190104               & 1203799               \\\\\n",
       "\t Venezuela              &   420500               & 1110871               \\\\\n",
       "\t Vietnam                &  1035138               & 2234194               \\\\\n",
       "\t Yemen                  &     9936               & 1149265               \\\\\n",
       "\t Zambia                 &   209996               &  963090               \\\\\n",
       "\t Zimbabwe               &   133438               &  900235               \\\\\n",
       "\\end{tabular}\n"
      ],
      "text/markdown": [
       "\n",
       "| Country | Total.Cases | r_result |\n",
       "|---|---|---|\n",
       "| Afghanistan            |   156610               | 1299703                |\n",
       "| Albania                |   193269               |  703678                |\n",
       "| Algeria                |   208104               | 1376610                |\n",
       "| Andorra                |    15907               |  658945                |\n",
       "| Angola                 |    64913               | 1205882                |\n",
       "| Anguilla               |     1137               |  657949                |\n",
       "| Antigua and Barbuda    |     4122               |  659291                |\n",
       "| Argentina              |  5307159               | 1389870                |\n",
       "| Armenia                |   329913               |  705235                |\n",
       "| Aruba                  |    16089               |  659424                |\n",
       "| Australia              |   191623               | 1072156                |\n",
       "| Austria                |   981904               |  802923                |\n",
       "| Azerbaijan             |   561925               |  821923                |\n",
       "| Bahamas                |    22601               |  664080                |\n",
       "| Bahrain                |   277246               |  686222                |\n",
       "| Bangladesh             |  1572735               | 3328486                |\n",
       "| Barbados               |    22316               |  662312                |\n",
       "| Belarus                |   629271               |  808814                |\n",
       "| Belgium                |  1512474               |  844230                |\n",
       "| Belize                 |    29105               |  664226                |\n",
       "| Benin                  |    24833               |  858610                |\n",
       "| Bermuda                |     5713               |  658698                |\n",
       "| Bhutan                 |     2625               |  670237                |\n",
       "| Bolivia                |   524261               |  847949                |\n",
       "| Bosnia and Herzegovina |   265149               |  709746                |\n",
       "| Botswana               |   194129               |  696369                |\n",
       "| Brazil                 | 21960766               | 4091500                |\n",
       "| Brunei                 |    14215               |  664797                |\n",
       "| Bulgaria               |   658870               |  767723                |\n",
       "| Burkina Faso           |    15281               | 1004673                |\n",
       "| ... | ... | ... |\n",
       "| South Sudan            |    12590               |  839668                |\n",
       "| Spain                  |  5056954               | 1406112                |\n",
       "| Sri Lanka              |   552274               | 1002258                |\n",
       "| St. Vincent Grenadines |     5326               |  659489                |\n",
       "| Sudan                  |    40238               | 1381649                |\n",
       "| Suriname               |    50170               |  667207                |\n",
       "| Sweden                 |  1182471               |  820662                |\n",
       "| Switzerland            |   918745               |  797556                |\n",
       "| Syria                  |    46421               |  946999                |\n",
       "| Taiwan                 |    16498               | 1039686                |\n",
       "| Tajikistan             |    17091               |  814986                |\n",
       "| Tanzania               |    26208               | 1650598                |\n",
       "| Thailand               |  2030700               | 1778249                |\n",
       "| Timor-Leste            |    19810               |  679350                |\n",
       "| Togo                   |    26167               |  794402                |\n",
       "| Trinidad and Tobago    |    62670               |  680196                |\n",
       "| Tunisia                |   715716               |  849499                |\n",
       "| Turkey                 |  8432018               | 2026913                |\n",
       "| UAE                    |   741006               |  818559                |\n",
       "| Uganda                 |   126965               | 1421092                |\n",
       "| UK                     |  9600369               | 1751609                |\n",
       "| Ukraine                |  3244749               | 1351613                |\n",
       "| Uruguay                |   396677               |  713545                |\n",
       "| USA                    | 48072898               | 5995859                |\n",
       "| Uzbekistan             |   190104               | 1203799                |\n",
       "| Venezuela              |   420500               | 1110871                |\n",
       "| Vietnam                |  1035138               | 2234194                |\n",
       "| Yemen                  |     9936               | 1149265                |\n",
       "| Zambia                 |   209996               |  963090                |\n",
       "| Zimbabwe               |   133438               |  900235                |\n",
       "\n"
      ],
      "text/plain": [
       "    Country                Total.Cases r_result\n",
       "1   Afghanistan              156610    1299703 \n",
       "2   Albania                  193269     703678 \n",
       "3   Algeria                  208104    1376610 \n",
       "4   Andorra                   15907     658945 \n",
       "5   Angola                    64913    1205882 \n",
       "6   Anguilla                   1137     657949 \n",
       "7   Antigua and Barbuda        4122     659291 \n",
       "8   Argentina               5307159    1389870 \n",
       "9   Armenia                  329913     705235 \n",
       "10  Aruba                     16089     659424 \n",
       "11  Australia                191623    1072156 \n",
       "12  Austria                  981904     802923 \n",
       "13  Azerbaijan               561925     821923 \n",
       "14  Bahamas                   22601     664080 \n",
       "15  Bahrain                  277246     686222 \n",
       "16  Bangladesh              1572735    3328486 \n",
       "17  Barbados                  22316     662312 \n",
       "18  Belarus                  629271     808814 \n",
       "19  Belgium                 1512474     844230 \n",
       "20  Belize                    29105     664226 \n",
       "21  Benin                     24833     858610 \n",
       "22  Bermuda                    5713     658698 \n",
       "23  Bhutan                     2625     670237 \n",
       "24  Bolivia                  524261     847949 \n",
       "25  Bosnia and Herzegovina   265149     709746 \n",
       "26  Botswana                 194129     696369 \n",
       "27  Brazil                 21960766    4091500 \n",
       "28  Brunei                    14215     664797 \n",
       "29  Bulgaria                 658870     767723 \n",
       "30  Burkina Faso              15281    1004673 \n",
       "... ...                    ...         ...     \n",
       "167 South Sudan               12590     839668 \n",
       "168 Spain                   5056954    1406112 \n",
       "169 Sri Lanka                552274    1002258 \n",
       "170 St. Vincent Grenadines     5326     659489 \n",
       "171 Sudan                     40238    1381649 \n",
       "172 Suriname                  50170     667207 \n",
       "173 Sweden                  1182471     820662 \n",
       "174 Switzerland              918745     797556 \n",
       "175 Syria                     46421     946999 \n",
       "176 Taiwan                    16498    1039686 \n",
       "177 Tajikistan                17091     814986 \n",
       "178 Tanzania                  26208    1650598 \n",
       "179 Thailand                2030700    1778249 \n",
       "180 Timor-Leste               19810     679350 \n",
       "181 Togo                      26167     794402 \n",
       "182 Trinidad and Tobago       62670     680196 \n",
       "183 Tunisia                  715716     849499 \n",
       "184 Turkey                  8432018    2026913 \n",
       "185 UAE                      741006     818559 \n",
       "186 Uganda                   126965    1421092 \n",
       "187 UK                      9600369    1751609 \n",
       "188 Ukraine                 3244749    1351613 \n",
       "189 Uruguay                  396677     713545 \n",
       "190 USA                    48072898    5995859 \n",
       "191 Uzbekistan               190104    1203799 \n",
       "192 Venezuela                420500    1110871 \n",
       "193 Vietnam                 1035138    2234194 \n",
       "194 Yemen                      9936    1149265 \n",
       "195 Zambia                   209996     963090 \n",
       "196 Zimbabwe                 133438     900235 "
      ]
     },
     "metadata": {},
     "output_type": "display_data"
    },
    {
     "data": {
      "text/html": [
       "<ol class=list-inline>\n",
       "\t<li>'Country'</li>\n",
       "\t<li>'Total.Cases'</li>\n",
       "\t<li>'r_result'</li>\n",
       "</ol>\n"
      ],
      "text/latex": [
       "\\begin{enumerate*}\n",
       "\\item 'Country'\n",
       "\\item 'Total.Cases'\n",
       "\\item 'r\\_result'\n",
       "\\end{enumerate*}\n"
      ],
      "text/markdown": [
       "1. 'Country'\n",
       "2. 'Total.Cases'\n",
       "3. 'r_result'\n",
       "\n",
       "\n"
      ],
      "text/plain": [
       "[1] \"Country\"     \"Total.Cases\" \"r_result\"   "
      ]
     },
     "metadata": {},
     "output_type": "display_data"
    }
   ],
   "source": [
    "df1=data.frame(covid_data[\"Total.Cases\"],r_result)\n",
    "p=round(result,)\n",
    "predicted_df = data.frame(covid_data['Country'],df1)\n",
    "predicted_df\n",
    "colnames(predicted_df)"
   ]
  },
  {
   "cell_type": "code",
   "execution_count": 168,
   "id": "d5012e7b",
   "metadata": {},
   "outputs": [
    {
     "data": {
      "text/html": [
       "0.0153061224495318"
      ],
      "text/latex": [
       "0.0153061224495318"
      ],
      "text/markdown": [
       "0.0153061224495318"
      ],
      "text/plain": [
       "[1] 0.01530612"
      ]
     },
     "metadata": {},
     "output_type": "display_data"
    }
   ],
   "source": [
    "rmse=sqrt(mean(p-df1$Total.Cases)^2)\n",
    "rmse"
   ]
  },
  {
   "cell_type": "markdown",
   "id": "795ad12a",
   "metadata": {},
   "source": [
    "## 11. RESULT"
   ]
  },
  {
   "cell_type": "code",
   "execution_count": 188,
   "id": "eb5a3db4",
   "metadata": {},
   "outputs": [
    {
     "data": {
      "text/html": [
       "<table>\n",
       "<thead><tr><th></th><th scope=col>Country</th><th scope=col>Total.Cases</th><th scope=col>r_result</th></tr></thead>\n",
       "<tbody>\n",
       "\t<tr><th scope=row>39</th><td>China    </td><td>   98337 </td><td>23684799 </td></tr>\n",
       "\t<tr><th scope=row>84</th><td>India    </td><td>34456401 </td><td>23033370 </td></tr>\n",
       "\t<tr><th scope=row>190</th><td>USA      </td><td>48072898 </td><td> 5995859 </td></tr>\n",
       "\t<tr><th scope=row>85</th><td>Indonesia</td><td> 4251076 </td><td> 5097123 </td></tr>\n",
       "\t<tr><th scope=row>137</th><td>Pakistan </td><td> 1280092 </td><td> 4285632 </td></tr>\n",
       "</tbody>\n",
       "</table>\n"
      ],
      "text/latex": [
       "\\begin{tabular}{r|lll}\n",
       "  & Country & Total.Cases & r\\_result\\\\\n",
       "\\hline\n",
       "\t39 & China     &    98337  & 23684799 \\\\\n",
       "\t84 & India     & 34456401  & 23033370 \\\\\n",
       "\t190 & USA       & 48072898  &  5995859 \\\\\n",
       "\t85 & Indonesia &  4251076  &  5097123 \\\\\n",
       "\t137 & Pakistan  &  1280092  &  4285632 \\\\\n",
       "\\end{tabular}\n"
      ],
      "text/markdown": [
       "\n",
       "| <!--/--> | Country | Total.Cases | r_result |\n",
       "|---|---|---|---|\n",
       "| 39 | China     |    98337  | 23684799  |\n",
       "| 84 | India     | 34456401  | 23033370  |\n",
       "| 190 | USA       | 48072898  |  5995859  |\n",
       "| 85 | Indonesia |  4251076  |  5097123  |\n",
       "| 137 | Pakistan  |  1280092  |  4285632  |\n",
       "\n"
      ],
      "text/plain": [
       "    Country   Total.Cases r_result\n",
       "39  China        98337    23684799\n",
       "84  India     34456401    23033370\n",
       "190 USA       48072898     5995859\n",
       "85  Indonesia  4251076     5097123\n",
       "137 Pakistan   1280092     4285632"
      ]
     },
     "metadata": {},
     "output_type": "display_data"
    }
   ],
   "source": [
    "sorted = order(predicted_df['r_result'],decreasing = TRUE)\n",
    "sorted_df = predicted_df[sorted,]\n",
    "sorted_df[1:5,]"
   ]
  },
  {
   "cell_type": "raw",
   "id": "f5590a44",
   "metadata": {},
   "source": [
    "-- Hence, These are the top five countries which has the Highest number of covid cases.\n",
    "-- so, These five countries must impose lockdown."
   ]
  },
  {
   "cell_type": "markdown",
   "id": "5f24a23a",
   "metadata": {},
   "source": [
    "## 12. CONCLUSION"
   ]
  },
  {
   "cell_type": "raw",
   "id": "8a82c223",
   "metadata": {},
   "source": [
    "-- The above machine learning model, we can conclude that the total case increases with increase in Population.\n",
    "-- From Data Visualization Analysis, we conclude that the total cases depends on the various factors such as \n",
    "   population,Total tests,Active Cases and etc."
   ]
  }
 ],
 "metadata": {
  "kernelspec": {
   "display_name": "R",
   "language": "R",
   "name": "ir"
  },
  "language_info": {
   "codemirror_mode": "r",
   "file_extension": ".r",
   "mimetype": "text/x-r-source",
   "name": "R",
   "pygments_lexer": "r",
   "version": "3.6.1"
  }
 },
 "nbformat": 4,
 "nbformat_minor": 5
}
